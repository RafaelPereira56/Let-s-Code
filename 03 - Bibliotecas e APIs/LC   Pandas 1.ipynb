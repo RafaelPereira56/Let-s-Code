{
 "cells": [
  {
   "cell_type": "markdown",
   "metadata": {
    "id": "-OKwq4ofq1U3"
   },
   "source": [
    "QUESTÃO 01\n",
    "Em um concurso público foram contabilizados os números de pessoas inscritas (até a data inicialmente estabelecida para a inscrição) segundo os níveis de escolaridade: fundamental completo, médio completo, superior completo e pós-graduação completa. Segue abaixo a tabela com os valores observados.\n",
    "\n",
    "Nível de escolaridade\tInscritos\n",
    "Fundamental completo\t451\n",
    "Médio completo\t627\n",
    "Superior completo\t292\n",
    "Pós-graduação completa\t95\n",
    "Com base na tabela acima, crie uma Series com esses valores e calcule:\n",
    "\n",
    "(a) O número total de inscritos\n",
    "(b) Número inscritos que possuem, pelo menos, o superior completo.\n",
    "(c) Suponha que a inscrição foi prorrogada e, com isso, foi obtido um número adicional de inscrições: 68, 93, 22 e 0 inscritos a mais em cada uma das categorias de escolaridade apresentados na tabela acima (na mesma ordem). Assim, crie uma nova Series com esses valores.\n",
    "(d) Utilizando as duas Series que você tem, calcule o número total de inscritos após a prorrogação do período de inscrições."
   ]
  },
  {
   "cell_type": "code",
   "execution_count": null,
   "metadata": {
    "colab": {
     "base_uri": "https://localhost:8080/"
    },
    "executionInfo": {
     "elapsed": 363,
     "status": "ok",
     "timestamp": 1633635363382,
     "user": {
      "displayName": "Rafael Pereira",
      "photoUrl": "https://lh3.googleusercontent.com/a-/AOh14GhdQQrCNdamZSZwKRODVWW9jOK_lV_W5e0GRikFYA=s64",
      "userId": "10843354352536919066"
     },
     "user_tz": 180
    },
    "id": "1yehp6nkqutn",
    "outputId": "885308c0-ea02-4ab3-80da-9c24703f3ad7"
   },
   "outputs": [
    {
     "name": "stdout",
     "output_type": "stream",
     "text": [
      "1465\n",
      "292\n",
      "fundamental_completo      519\n",
      "medio_completo            720\n",
      "superior_completo         314\n",
      "pos_graduacao_completo     95\n",
      "dtype: int64\n",
      "1648\n"
     ]
    }
   ],
   "source": [
    "#pip install pandas\n",
    "import pandas as pd\n",
    "\n",
    "columns = ['fundamental_completo', 'medio_completo', 'superior_completo', 'pos_graduacao_completo']\n",
    "\n",
    "data = [451, 627, 292, 95]\n",
    "\n",
    "estudantes_series = pd.Series(data=data, index=columns)\n",
    "\n",
    "numero_de_estudantes = estudantes_series.sum()\n",
    "\n",
    "numero_de_superior = estudantes_series.filter(items=['superior_completo', 'pos_graduacao_completa']).sum()\n",
    "\n",
    "data_extra = [68, 93, 22, 0]\n",
    "\n",
    "estudantes_series2 = pd.Series(data=data_extra, index=columns)\n",
    "\n",
    "estudantes_series3 = estudantes_series + estudantes_series2\n",
    "\n",
    "numero_de_estudantes_extra = estudantes_series3.sum()\n",
    "\n",
    "print(numero_de_estudantes)\n",
    "print(numero_de_superior)\n",
    "print(estudantes_series3)\n",
    "print(numero_de_estudantes_extra)"
   ]
  },
  {
   "cell_type": "markdown",
   "metadata": {
    "id": "ztwK9cuNy5PK"
   },
   "source": [
    "\n",
    "Questão 2\n",
    "Uma turma de cinco alunos foi submetida a uma avaliação e a nota de cada um dos alunos é apresentada na tabela abaixo:\n",
    "\n",
    "Nome do Aluno\tNota\n",
    "Wilfred\t2\n",
    "Abbie\t7\n",
    "Harry\t5.5\n",
    "Julia\t10\n",
    "Carrie\t6.2\n",
    "(a) Crie uma Series com os valores da tabela acima.\n",
    "\n",
    "(b) Retorne o número de alunos que foram aprovados (considerando que a nota mínima para a aprovação é 7).\n",
    "\n",
    "(c) Qual foi a nota média da turma."
   ]
  },
  {
   "cell_type": "code",
   "execution_count": null,
   "metadata": {
    "colab": {
     "base_uri": "https://localhost:8080/"
    },
    "executionInfo": {
     "elapsed": 494,
     "status": "ok",
     "timestamp": 1633635368898,
     "user": {
      "displayName": "Rafael Pereira",
      "photoUrl": "https://lh3.googleusercontent.com/a-/AOh14GhdQQrCNdamZSZwKRODVWW9jOK_lV_W5e0GRikFYA=s64",
      "userId": "10843354352536919066"
     },
     "user_tz": 180
    },
    "id": "StdCwSfIy7Vw",
    "outputId": "862d665b-9e90-428a-adb6-92efba978b83"
   },
   "outputs": [
    {
     "name": "stdout",
     "output_type": "stream",
     "text": [
      "Wilfred     2.0\n",
      "Abbie       7.0\n",
      "Harry       5.5\n",
      "Julia      10.0\n",
      "Carrie      6.2\n",
      "dtype: float64\n",
      "Abbie     7.0\n",
      "Julia    10.0\n",
      "dtype: float64\n",
      "6.14\n",
      "Abbie      7.0\n",
      "Julia     10.0\n",
      "Carrie     6.2\n",
      "dtype: float64\n"
     ]
    }
   ],
   "source": [
    "import pandas as pd\n",
    "\n",
    "columns = [\n",
    "    'Wilfred',\n",
    "    'Abbie',\n",
    "    'Harry',\n",
    "    'Julia',\n",
    "    'Carrie'\n",
    "]\n",
    "\n",
    "data = [\n",
    "    2,\n",
    "    7,\n",
    "    5.5,\n",
    "    10,\n",
    "    6.2\n",
    "]\n",
    "\n",
    "testes = pd.Series(data=data, index=columns)\n",
    "\n",
    "print(testes)\n",
    "\n",
    "estudantes_aprovados = testes.where(lambda estudante: estudante >= 7).dropna()\n",
    "\n",
    "print(estudantes_aprovados)\n",
    "\n",
    "mean = testes.mean()\n",
    "\n",
    "estudantes_acima_media = testes.where(lambda estudante: estudante >= mean).dropna()\n",
    "\n",
    "print(mean)\n",
    "\n",
    "print(estudantes_acima_media)"
   ]
  },
  {
   "cell_type": "markdown",
   "metadata": {
    "id": "1vmZXhqA4oqY"
   },
   "source": [
    "\n",
    "Questão 3¶\n",
    "Crie um objeto DataFrame que contenha os dados da tabela abaixo, os quais se referem ao peso, altura e idade de cinco pessoas:\n",
    "\n",
    "Peso (kg)\tAltura (cm)\tIdade\n",
    "72\t180\t31\n",
    "80\t170\t21\n",
    "60\t175\t16\n",
    "90\t174\t28\n",
    "100\t185\t23\n",
    "Com base no DataFrame criado, realize o que pedido nos itens abaixo:\n",
    "\n",
    "(a) Visualize apenas os dados da coluna que contém a altura das pessoas.\n",
    "\n",
    "(b) Obtenha a idade média das pessoas.\n",
    "\n",
    "(c) Obtenha os dados das pessoas que estão abaixo da altura média.\n",
    "\n",
    "(d) Crie um nova coluna no DataFrame que contenha o IMC (Índice de Massa Corporal) de cada pessoa.\n",
    "\n",
    "(e) Remova a coluna que contém a idade das pessoas.\n",
    "\n",
    "(f) Salve esses dados do DataFrame em um arquivo csv."
   ]
  },
  {
   "cell_type": "code",
   "execution_count": 1,
   "metadata": {
    "colab": {
     "base_uri": "https://localhost:8080/"
    },
    "executionInfo": {
     "elapsed": 226,
     "status": "ok",
     "timestamp": 1633646566829,
     "user": {
      "displayName": "Rafael Pereira",
      "photoUrl": "https://lh3.googleusercontent.com/a-/AOh14GhdQQrCNdamZSZwKRODVWW9jOK_lV_W5e0GRikFYA=s64",
      "userId": "10843354352536919066"
     },
     "user_tz": 180
    },
    "id": "swtqCUhn76K0",
    "outputId": "17b4f0d7-3a6f-497f-baa4-2e3bfbb497bc"
   },
   "outputs": [
    {
     "name": "stdout",
     "output_type": "stream",
     "text": [
      "0    180\n",
      "1    170\n",
      "2    175\n",
      "3    174\n",
      "4    185\n",
      "Name: altura, dtype: int64\n",
      "23.8\n",
      "   peso  altura  idade\n",
      "1    80     170     21\n",
      "2    60     175     16\n",
      "3    90     174     28\n",
      "   peso  altura  idade        imc\n",
      "0    72     180     31  22.222222\n",
      "1    80     170     21  27.681661\n",
      "2    60     175     16  19.591837\n",
      "3    90     174     28  29.726516\n",
      "4   100     185     23  29.218408\n",
      "   peso  altura        imc\n",
      "0    72     180  22.222222\n",
      "1    80     170  27.681661\n",
      "2    60     175  19.591837\n",
      "3    90     174  29.726516\n",
      "4   100     185  29.218408\n"
     ]
    }
   ],
   "source": [
    "import pandas as pd\n",
    "\n",
    "data = {\n",
    "    'peso': [72, 80, 60, 90, 100],\n",
    "    'altura': [180, 170, 175, 174, 185],\n",
    "    'idade': [31, 21, 16, 28, 23]\n",
    "}\n",
    "\n",
    "df = pd.DataFrame(data)\n",
    "\n",
    "coluna_altura = df['altura']\n",
    "\n",
    "print(coluna_altura)\n",
    "\n",
    "media_idade = df['idade'].mean()\n",
    "\n",
    "print(media_idade)\n",
    "\n",
    "media_altura = coluna_altura.mean()\n",
    "\n",
    "print(df[df['altura'] < media_altura])\n",
    "\n",
    "df['imc'] = df['peso'] / ((df['altura'] / 100)  ** 2)\n",
    "\n",
    "print(df)\n",
    "\n",
    "df = df.drop(columns=['idade'])\n",
    "\n",
    "print(df)\n",
    "\n",
    "df.to_csv('imc.csv', index=False)"
   ]
  },
  {
   "cell_type": "markdown",
   "metadata": {
    "id": "6zgC9zsmAPP4"
   },
   "source": [
    "\n",
    "Questão 4\n",
    "Carregue, em um objeto DataFrame, o arquivo CSV que você salvou no item (f) da questão anterior. Em seguida,\n",
    "\n",
    "(a) Crie uma nova coluna que contenha o nome das pessoas (sinta-se à vontade para atribuir os nomes que preferir).\n",
    "\n",
    "(b) Defina a nova coluna criada (com os nomes) como o índice (index) do seu DataFrame.\n",
    "\n",
    "(c) Obtenha o nome das pessoas que são classificadas com Sobrepeso (IMC entre 25 e 29,9)."
   ]
  },
  {
   "cell_type": "code",
   "execution_count": 2,
   "metadata": {
    "id": "GQOXIn6iAQkZ"
   },
   "outputs": [
    {
     "name": "stdout",
     "output_type": "stream",
     "text": [
      "   peso  altura        imc    nomes\n",
      "0    72     180  22.222222   Rafael\n",
      "1    80     170  27.681661  Everton\n",
      "2    60     175  19.591837   Marcos\n",
      "3    90     174  29.726516  Marcelo\n",
      "4   100     185  29.218408  Stefani\n",
      "         peso  altura        imc\n",
      "nomes                           \n",
      "Rafael     72     180  22.222222\n",
      "Everton    80     170  27.681661\n",
      "Marcos     60     175  19.591837\n",
      "Marcelo    90     174  29.726516\n",
      "Stefani   100     185  29.218408\n",
      "Index(['Everton', 'Marcelo', 'Stefani'], dtype='object', name='nomes')\n"
     ]
    }
   ],
   "source": [
    "import pandas as pd\n",
    "\n",
    "df = pd.read_csv('imc.csv')\n",
    "\n",
    "nomes = ['Rafael', 'Everton', 'Marcos', 'Marcelo', 'Stefani']\n",
    "\n",
    "df['nomes'] = nomes\n",
    "\n",
    "print(df)\n",
    "\n",
    "df = df.set_index('nomes')\n",
    "\n",
    "print(df)\n",
    "\n",
    "print(df[(df['imc'] > 25) & (df['imc'] < 29.9)].index)"
   ]
  },
  {
   "cell_type": "markdown",
   "metadata": {
    "id": "KxSYQqssDxsk"
   },
   "source": [
    "Questão 5\n",
    "Carregue, em um objeto DataFrame, o mesmo dataset que você salvou na Questão 3. Em seguida,\n",
    "\n",
    "(a) Adicione uma nova coluna nesse DF chamada Classificação, que contenha a classificação de cada indivíduo, de acordo com o seu IMC. Para isso, consulte a tabela abaixo.\n",
    "\n",
    "IMC\tClassificação\tObesidade (grau)\n",
    "Menor que 18,5\tMagreza\t0\n",
    "Entre 18,5 e 24,9\tNormal\t0\n",
    "Entre 25,0 e 29,9\tSobrepeso\tI\n",
    "Entre 30,0 e 39,9\tObesidade\tII\n",
    "Maior que 40,0\tObesidade Grave\tIII\n",
    "(b) Salve em DataFrame no formato xlsx."
   ]
  },
  {
   "cell_type": "code",
   "execution_count": 4,
   "metadata": {
    "colab": {
     "base_uri": "https://localhost:8080/",
     "height": 442
    },
    "executionInfo": {
     "elapsed": 315,
     "status": "error",
     "timestamp": 1633637346210,
     "user": {
      "displayName": "Rafael Pereira",
      "photoUrl": "https://lh3.googleusercontent.com/a-/AOh14GhdQQrCNdamZSZwKRODVWW9jOK_lV_W5e0GRikFYA=s64",
      "userId": "10843354352536919066"
     },
     "user_tz": 180
    },
    "id": "mBLJREvTD0lg",
    "outputId": "265f4b2e-59cc-4998-da2e-36dd7faa75a5"
   },
   "outputs": [
    {
     "name": "stdout",
     "output_type": "stream",
     "text": [
      "   peso  altura        imc      Classicação\n",
      "0    72     180  22.222222           Normal\n",
      "1    80     170  27.681661  Obesidade Grave\n",
      "2    60     175  19.591837           Normal\n",
      "3    90     174  29.726516  Obesidade Grave\n",
      "4   100     185  29.218408  Obesidade Grave\n"
     ]
    }
   ],
   "source": [
    "import pandas as pd\n",
    "\n",
    "def classificacao(imc):\n",
    "    if imc < 18.5:\n",
    "        return 'Magreza'\n",
    "    elif imc >=18.5 and imc <25:\n",
    "        return 'Normal'\n",
    "    elif imc <=25 and imc < 30:\n",
    "        return 'Sobrepeso'\n",
    "    elif imc > 30 and imc < 40:\n",
    "        return 'Odesidade'\n",
    "    else:\n",
    "        return 'Obesidade Grave' #imc > 40\n",
    "\n",
    "df = pd.read_csv('imc.csv')\n",
    "\n",
    "df ['Classicação'] = df['imc'].apply(classificacao)\n",
    "\n",
    "print(df)\n",
    "\n",
    "df.to_excel('imc_classicacao.xlsx', index=False)"
   ]
  },
  {
   "cell_type": "code",
   "execution_count": null,
   "metadata": {},
   "outputs": [],
   "source": []
  }
 ],
 "metadata": {
  "colab": {
   "name": "LC   Pandas 1.ipynb",
   "provenance": []
  },
  "kernelspec": {
   "display_name": "Python 3",
   "language": "python",
   "name": "python3"
  },
  "language_info": {
   "codemirror_mode": {
    "name": "ipython",
    "version": 3
   },
   "file_extension": ".py",
   "mimetype": "text/x-python",
   "name": "python",
   "nbconvert_exporter": "python",
   "pygments_lexer": "ipython3",
   "version": "3.8.8"
  }
 },
 "nbformat": 4,
 "nbformat_minor": 4
}
