{
 "cells": [
  {
   "cell_type": "code",
   "execution_count": 21,
   "id": "6aaaacb2-5e97-4ca1-bb53-474a4c76d2fd",
   "metadata": {},
   "outputs": [],
   "source": [
    "import numpy as np\n",
    "import pandas as pd\n",
    "import matplotlib.pyplot as plt\n",
    "import seaborn as sns\n",
    "\n",
    "sns.set() # Serve para setar o tema do Matplotlib para ser o mesmo do Seaborn"
   ]
  },
  {
   "cell_type": "code",
   "execution_count": 22,
   "id": "a422e61e-3d9b-4688-b102-903c8561a485",
   "metadata": {},
   "outputs": [
    {
     "data": {
      "text/html": [
       "<div>\n",
       "<style scoped>\n",
       "    .dataframe tbody tr th:only-of-type {\n",
       "        vertical-align: middle;\n",
       "    }\n",
       "\n",
       "    .dataframe tbody tr th {\n",
       "        vertical-align: top;\n",
       "    }\n",
       "\n",
       "    .dataframe thead th {\n",
       "        text-align: right;\n",
       "    }\n",
       "</style>\n",
       "<table border=\"1\" class=\"dataframe\">\n",
       "  <thead>\n",
       "    <tr style=\"text-align: right;\">\n",
       "      <th></th>\n",
       "      <th>Limit</th>\n",
       "      <th>Score</th>\n",
       "    </tr>\n",
       "  </thead>\n",
       "  <tbody>\n",
       "    <tr>\n",
       "      <th>0</th>\n",
       "      <td>3606</td>\n",
       "      <td>283</td>\n",
       "    </tr>\n",
       "    <tr>\n",
       "      <th>1</th>\n",
       "      <td>6645</td>\n",
       "      <td>483</td>\n",
       "    </tr>\n",
       "    <tr>\n",
       "      <th>2</th>\n",
       "      <td>7075</td>\n",
       "      <td>514</td>\n",
       "    </tr>\n",
       "    <tr>\n",
       "      <th>3</th>\n",
       "      <td>9504</td>\n",
       "      <td>681</td>\n",
       "    </tr>\n",
       "    <tr>\n",
       "      <th>4</th>\n",
       "      <td>4897</td>\n",
       "      <td>357</td>\n",
       "    </tr>\n",
       "  </tbody>\n",
       "</table>\n",
       "</div>"
      ],
      "text/plain": [
       "   Limit  Score\n",
       "0   3606    283\n",
       "1   6645    483\n",
       "2   7075    514\n",
       "3   9504    681\n",
       "4   4897    357"
      ]
     },
     "execution_count": 22,
     "metadata": {},
     "output_type": "execute_result"
    }
   ],
   "source": [
    "df = pd.read_csv('Previsão de Limite de Crédito.csv')\n",
    "\n",
    "df.head()"
   ]
  },
  {
   "cell_type": "markdown",
   "id": "38679927-c10f-48a4-ab0b-792f6c66b721",
   "metadata": {},
   "source": [
    "### Visualização gráfica"
   ]
  },
  {
   "cell_type": "code",
   "execution_count": 23,
   "id": "29278f00-dbdf-4d08-a977-412fd263e417",
   "metadata": {},
   "outputs": [
    {
     "data": {
      "text/plain": [
       "<AxesSubplot:xlabel='Score', ylabel='Limit'>"
      ]
     },
     "execution_count": 23,
     "metadata": {},
     "output_type": "execute_result"
    },
    {
     "data": {
      "image/png": "[encoded data removed]",
      "text/plain": [
       "<Figure size 432x288 with 1 Axes>"
      ]
     },
     "metadata": {},
     "output_type": "display_data"
    }
   ],
   "source": [
    "sns.scatterplot(data=df, x='Score', y='Limit')"
   ]
  },
  {
   "cell_type": "markdown",
   "id": "7b3650ff-7ee0-40b7-9af8-8a1a8cac2fc8",
   "metadata": {},
   "source": [
    "### Calculando a correlação entre as features"
   ]
  },
  {
   "cell_type": "code",
   "execution_count": 24,
   "id": "dd1d7648-8458-4b05-8448-cd98e88f85e0",
   "metadata": {},
   "outputs": [
    {
     "data": {
      "text/plain": [
       "(0.9968797370016829, 0.0)"
      ]
     },
     "execution_count": 24,
     "metadata": {},
     "output_type": "execute_result"
    }
   ],
   "source": [
    "from scipy.stats import pearsonr\n",
    "pearsonr(df['Score'], df['Limit'])"
   ]
  },
  {
   "cell_type": "markdown",
   "id": "f83bed2b-d3e2-404a-bb12-ea6235c72704",
   "metadata": {},
   "source": [
    "- Correlação muito forte: [-1, -0.8] or [0.8, 1]\n",
    "\n",
    "$$\n",
    "\\beta_1 = \\sum_{i=1}^N \\frac{(x_i - \\bar{x}) \\cdot (y_i - \\bar{y})}{(x_i - \\bar{x})^2}\n",
    "$$\n",
    "\n",
    "$$\n",
    "\\beta_0 = \\bar{y} - \\beta_1\\bar{x}\n",
    "$$"
   ]
  },
  {
   "cell_type": "code",
   "execution_count": 25,
   "id": "8c74752a-e394-47ef-b305-669f2a940df0",
   "metadata": {},
   "outputs": [
    {
     "data": {
      "text/plain": [
       "354.94"
      ]
     },
     "execution_count": 25,
     "metadata": {},
     "output_type": "execute_result"
    }
   ],
   "source": [
    "x_mean = df['Score'].mean()\n",
    "x_mean"
   ]
  },
  {
   "cell_type": "code",
   "execution_count": 26,
   "id": "85f27e27-95f9-4cb8-9711-a3e2848f8f19",
   "metadata": {},
   "outputs": [
    {
     "data": {
      "text/plain": [
       "4735.6"
      ]
     },
     "execution_count": 26,
     "metadata": {},
     "output_type": "execute_result"
    }
   ],
   "source": [
    "y_mean = df['Limit'].mean()\n",
    "y_mean"
   ]
  },
  {
   "cell_type": "code",
   "execution_count": 27,
   "id": "856a3176-0711-4716-8bbc-669e04967287",
   "metadata": {},
   "outputs": [],
   "source": [
    "x = df['Score']\n",
    "y = df['Limit']"
   ]
  },
  {
   "cell_type": "code",
   "execution_count": 28,
   "id": "8ae078fa-50f1-4740-bf2d-9af124cd2b79",
   "metadata": {},
   "outputs": [
    {
     "data": {
      "text/plain": [
       "142051874.39999992"
      ]
     },
     "execution_count": 28,
     "metadata": {},
     "output_type": "execute_result"
    }
   ],
   "source": [
    "numerador = sum((x - x_mean) * (y - y_mean))\n",
    "numerador"
   ]
  },
  {
   "cell_type": "code",
   "execution_count": 29,
   "id": "12b9170f-ef18-46e4-95fe-82e89e714f63",
   "metadata": {},
   "outputs": [
    {
     "data": {
      "text/plain": [
       "9551884.560000006"
      ]
     },
     "execution_count": 29,
     "metadata": {},
     "output_type": "execute_result"
    }
   ],
   "source": [
    "denominador = sum((x - x_mean)**2)\n",
    "denominador"
   ]
  },
  {
   "cell_type": "code",
   "execution_count": 30,
   "id": "56799e05-b53d-4b8d-b47a-97c8c5c468bf",
   "metadata": {},
   "outputs": [
    {
     "data": {
      "text/plain": [
       "14.871607116658854"
      ]
     },
     "execution_count": 30,
     "metadata": {},
     "output_type": "execute_result"
    }
   ],
   "source": [
    "beta1 = numerador / denominador\n",
    "beta1"
   ]
  },
  {
   "cell_type": "code",
   "execution_count": 31,
   "id": "299c3f9e-7005-4f8c-961c-febb2582265b",
   "metadata": {},
   "outputs": [
    {
     "data": {
      "text/plain": [
       "-542.9282299868937"
      ]
     },
     "execution_count": 31,
     "metadata": {},
     "output_type": "execute_result"
    }
   ],
   "source": [
    "beta0 = y_mean - (beta1 * x_mean)\n",
    "beta0 # intercepto"
   ]
  },
  {
   "cell_type": "code",
   "execution_count": 32,
   "id": "dd4faaab-f41c-4b4e-91af-2f394a38d765",
   "metadata": {},
   "outputs": [
    {
     "data": {
      "text/plain": [
       "0      3665.736584\n",
       "1      6640.058007\n",
       "2      7101.077828\n",
       "3      9584.636216\n",
       "4      4766.235511\n",
       "          ...     \n",
       "395    4022.655155\n",
       "396    3859.067477\n",
       "397    4230.857654\n",
       "398    2312.420336\n",
       "399    5628.788723\n",
       "Name: Score, Length: 400, dtype: float64"
      ]
     },
     "execution_count": 32,
     "metadata": {},
     "output_type": "execute_result"
    }
   ],
   "source": [
    "y_est = beta1 * x + beta0\n",
    "y_est"
   ]
  },
  {
   "cell_type": "code",
   "execution_count": 33,
   "id": "cba7fff1-615d-48d3-90d8-0b01ad61d717",
   "metadata": {},
   "outputs": [
    {
     "data": {
      "text/plain": [
       "0      3606\n",
       "1      6645\n",
       "2      7075\n",
       "3      9504\n",
       "4      4897\n",
       "       ... \n",
       "395    4100\n",
       "396    3838\n",
       "397    4171\n",
       "398    2525\n",
       "399    5524\n",
       "Name: Limit, Length: 400, dtype: int64"
      ]
     },
     "execution_count": 33,
     "metadata": {},
     "output_type": "execute_result"
    }
   ],
   "source": [
    "y"
   ]
  },
  {
   "cell_type": "code",
   "execution_count": 34,
   "id": "22df1d3f-dff3-477c-946c-0d474e80361d",
   "metadata": {},
   "outputs": [
    {
     "data": {
      "text/plain": [
       "<matplotlib.legend.Legend at 0x18b56447f40>"
      ]
     },
     "execution_count": 34,
     "metadata": {},
     "output_type": "execute_result"
    },
    {
     "data": {
      "image/png": "[encoded data removed]",
      "text/plain": [
       "<Figure size 432x288 with 1 Axes>"
      ]
     },
     "metadata": {},
     "output_type": "display_data"
    }
   ],
   "source": [
    "plt.scatter(df['Score'], df['Limit'], label='Valores verdadeiros')                    # Valores verdadeiros\n",
    "plt.plot(df['Score'], y_est, linewidth=4, color='r', label='Valores estimados')      # Valores estimados\n",
    "plt.legend()\n"
   ]
  },
  {
   "cell_type": "markdown",
   "id": "0cfcae99-d9a2-4f35-8a75-c7d4de7c230a",
   "metadata": {},
   "source": [
    "### Scikit Learn"
   ]
  },
  {
   "cell_type": "code",
   "execution_count": 36,
   "id": "a7cf4306-ca06-4b84-a71f-a2c4ea8d08b4",
   "metadata": {},
   "outputs": [],
   "source": [
    "x = df['Score']\n",
    "y = df['Limit']"
   ]
  },
  {
   "cell_type": "code",
   "execution_count": 37,
   "id": "6935ed85-e2d1-4b06-896c-fb9a9e97f652",
   "metadata": {},
   "outputs": [
    {
     "name": "stdout",
     "output_type": "stream",
     "text": [
      "Collecting sklearnNote: you may need to restart the kernel to use updated packages.\n",
      "  Downloading sklearn-0.0.tar.gz (1.1 kB)\n",
      "Requirement already satisfied: scikit-learn in c:\\users\\rafae\\anaconda3\\lib\\site-packages (from sklearn) (0.24.1)\n",
      "Requirement already satisfied: scipy>=0.19.1 in c:\\users\\rafae\\anaconda3\\lib\\site-packages (from scikit-learn->sklearn) (1.6.2)\n",
      "Requirement already satisfied: joblib>=0.11 in c:\\users\\rafae\\anaconda3\\lib\\site-packages (from scikit-learn->sklearn) (1.0.1)\n",
      "Requirement already satisfied: numpy>=1.13.3 in c:\\users\\rafae\\anaconda3\\lib\\site-packages (from scikit-learn->sklearn) (1.20.1)\n",
      "Requirement already satisfied: threadpoolctl>=2.0.0 in c:\\users\\rafae\\anaconda3\\lib\\site-packages (from scikit-learn->sklearn) (2.1.0)\n",
      "Building wheels for collected packages: sklearn\n",
      "\n",
      "  Building wheel for sklearn (setup.py): started\n",
      "  Building wheel for sklearn (setup.py): finished with status 'done'\n",
      "  Created wheel for sklearn: filename=sklearn-0.0-py2.py3-none-any.whl size=1316 sha256=06c2fb7dfc2b81dfb1f785857c743da3c40cdadc04a3117b9437e08d09427805\n",
      "  Stored in directory: c:\\users\\rafae\\appdata\\local\\pip\\cache\\wheels\\22\\0b\\40\\fd3f795caaa1fb4c6cb738bc1f56100be1e57da95849bfc897\n",
      "Successfully built sklearn\n",
      "Installing collected packages: sklearn\n",
      "Successfully installed sklearn-0.0\n"
     ]
    }
   ],
   "source": [
    "pip install -U sklearn"
   ]
  },
  {
   "cell_type": "code",
   "execution_count": 38,
   "id": "0c91471d-6a37-4e02-a498-7ef74b411b74",
   "metadata": {},
   "outputs": [],
   "source": [
    "from sklearn.linear_model import LinearRegression"
   ]
  },
  {
   "cell_type": "code",
   "execution_count": 39,
   "id": "e9fe353b-240b-4323-8abb-58e988935dbd",
   "metadata": {},
   "outputs": [
    {
     "data": {
      "text/plain": [
       "LinearRegression()"
      ]
     },
     "execution_count": 39,
     "metadata": {},
     "output_type": "execute_result"
    }
   ],
   "source": [
    "lr = LinearRegression()\n",
    "lr"
   ]
  },
  {
   "cell_type": "code",
   "execution_count": 40,
   "id": "d200b5f1-c0f8-477b-b5e5-66c28e9134e3",
   "metadata": {},
   "outputs": [
    {
     "data": {
      "text/plain": [
       "LinearRegression()"
      ]
     },
     "execution_count": 40,
     "metadata": {},
     "output_type": "execute_result"
    }
   ],
   "source": [
    "lr.fit(X, y) # Treinou o modelo (calcular os coeficientes)"
   ]
  },
  {
   "cell_type": "code",
   "execution_count": 43,
   "id": "14d0817d-75fd-4d5c-b0ba-1b75ae1aee67",
   "metadata": {},
   "outputs": [
    {
     "data": {
      "text/plain": [
       "array([14.87160712])"
      ]
     },
     "execution_count": 43,
     "metadata": {},
     "output_type": "execute_result"
    }
   ],
   "source": [
    "lr.coef_ # Um array com os coeficientes que multiplicam o X => No nosso caso, esse é o beta1"
   ]
  },
  {
   "cell_type": "code",
   "execution_count": 42,
   "id": "e88e741a-697b-45c8-b12b-bc4b91a19cb1",
   "metadata": {},
   "outputs": [
    {
     "data": {
      "text/plain": [
       "14.871607116658854"
      ]
     },
     "execution_count": 42,
     "metadata": {},
     "output_type": "execute_result"
    }
   ],
   "source": [
    "beta1"
   ]
  },
  {
   "cell_type": "code",
   "execution_count": 44,
   "id": "bb0d4e08-26fc-4d7d-89f5-31672a142133",
   "metadata": {},
   "outputs": [
    {
     "data": {
      "text/plain": [
       "-542.9282299869001"
      ]
     },
     "execution_count": 44,
     "metadata": {},
     "output_type": "execute_result"
    }
   ],
   "source": [
    "lr.intercept_ # Intercepto (ou seja, o beta0)"
   ]
  },
  {
   "cell_type": "code",
   "execution_count": 45,
   "id": "bca30a7f-75e0-4031-bf61-d4d465afa2bf",
   "metadata": {},
   "outputs": [
    {
     "data": {
      "text/plain": [
       "0      3665.736584\n",
       "1      6640.058007\n",
       "2      7101.077828\n",
       "3      9584.636216\n",
       "4      4766.235511\n",
       "          ...     \n",
       "395    4022.655155\n",
       "396    3859.067477\n",
       "397    4230.857654\n",
       "398    2312.420336\n",
       "399    5628.788723\n",
       "Name: Score, Length: 400, dtype: float64"
      ]
     },
     "execution_count": 45,
     "metadata": {},
     "output_type": "execute_result"
    }
   ],
   "source": [
    "y_est = lr.coef_[0] * x + lr.intercept_\n",
    "y_est"
   ]
  },
  {
   "cell_type": "code",
   "execution_count": 46,
   "id": "994bf40a-8c3d-4b70-8590-62ce340ef48a",
   "metadata": {},
   "outputs": [
    {
     "data": {
      "text/plain": [
       "array([[283],\n",
       "       [483],\n",
       "       [514],\n",
       "       [681],\n",
       "       [357],\n",
       "       [569],\n",
       "       [259],\n",
       "       [512],\n",
       "       [266],\n",
       "       [491],\n",
       "       [589],\n",
       "       [138],\n",
       "       [394],\n",
       "       [511],\n",
       "       [269],\n",
       "       [200],\n",
       "       [286],\n",
       "       [339],\n",
       "       [448],\n",
       "       [479],\n",
       "       [235],\n",
       "       [458],\n",
       "       [213],\n",
       "       [398],\n",
       "       [156],\n",
       "       [326],\n",
       "       [289],\n",
       "       [333],\n",
       "       [949],\n",
       "       [411],\n",
       "       [413],\n",
       "       [210],\n",
       "       [563],\n",
       "       [162],\n",
       "       [199],\n",
       "       [220],\n",
       "       [455],\n",
       "       [462],\n",
       "       [300],\n",
       "       [264],\n",
       "       [253],\n",
       "       [538],\n",
       "       [351],\n",
       "       [445],\n",
       "       [469],\n",
       "       [564],\n",
       "       [376],\n",
       "       [320],\n",
       "       [205],\n",
       "       [354],\n",
       "       [376],\n",
       "       [301],\n",
       "       [394],\n",
       "       [413],\n",
       "       [138],\n",
       "       [154],\n",
       "       [372],\n",
       "       [367],\n",
       "       [281],\n",
       "       [390],\n",
       "       [364],\n",
       "       [254],\n",
       "       [160],\n",
       "       [251],\n",
       "       [223],\n",
       "       [320],\n",
       "       [694],\n",
       "       [380],\n",
       "       [418],\n",
       "       [505],\n",
       "       [318],\n",
       "       [538],\n",
       "       [355],\n",
       "       [338],\n",
       "       [418],\n",
       "       [224],\n",
       "       [251],\n",
       "       [253],\n",
       "       [468],\n",
       "       [171],\n",
       "       [288],\n",
       "       [317],\n",
       "       [344],\n",
       "       [122],\n",
       "       [232],\n",
       "       [828],\n",
       "       [448],\n",
       "       [182],\n",
       "       [352],\n",
       "       [543],\n",
       "       [431],\n",
       "       [456],\n",
       "       [249],\n",
       "       [388],\n",
       "       [245],\n",
       "       [120],\n",
       "       [367],\n",
       "       [266],\n",
       "       [241],\n",
       "       [607],\n",
       "       [256],\n",
       "       [190],\n",
       "       [531],\n",
       "       [682],\n",
       "       [365],\n",
       "       [259],\n",
       "       [115],\n",
       "       [263],\n",
       "       [449],\n",
       "       [279],\n",
       "       [250],\n",
       "       [231],\n",
       "       [491],\n",
       "       [474],\n",
       "       [268],\n",
       "       [369],\n",
       "       [186],\n",
       "       [626],\n",
       "       [173],\n",
       "       [137],\n",
       "       [128],\n",
       "       [599],\n",
       "       [481],\n",
       "       [117],\n",
       "       [192],\n",
       "       [195],\n",
       "       [433],\n",
       "       [259],\n",
       "       [610],\n",
       "       [279],\n",
       "       [281],\n",
       "       [162],\n",
       "       [407],\n",
       "       [427],\n",
       "       [452],\n",
       "       [257],\n",
       "       [314],\n",
       "       [278],\n",
       "       [175],\n",
       "       [728],\n",
       "       [459],\n",
       "       [483],\n",
       "       [549],\n",
       "       [387],\n",
       "       [228],\n",
       "       [341],\n",
       "       [371],\n",
       "       [150],\n",
       "       [192],\n",
       "       [121],\n",
       "       [435],\n",
       "       [353],\n",
       "       [184],\n",
       "       [344],\n",
       "       [235],\n",
       "       [143],\n",
       "       [338],\n",
       "       [406],\n",
       "       [406],\n",
       "       [235],\n",
       "       [381],\n",
       "       [160],\n",
       "       [515],\n",
       "       [203],\n",
       "       [429],\n",
       "       [367],\n",
       "       [214],\n",
       "       [178],\n",
       "       [219],\n",
       "       [459],\n",
       "       [167],\n",
       "       [299],\n",
       "       [344],\n",
       "       [339],\n",
       "       [750],\n",
       "       [206],\n",
       "       [221],\n",
       "       [292],\n",
       "       [316],\n",
       "       [560],\n",
       "       [294],\n",
       "       [382],\n",
       "       [459],\n",
       "       [335],\n",
       "       [805],\n",
       "       [316],\n",
       "       [309],\n",
       "       [167],\n",
       "       [554],\n",
       "       [326],\n",
       "       [385],\n",
       "       [701],\n",
       "       [287],\n",
       "       [730],\n",
       "       [181],\n",
       "       [398],\n",
       "       [517],\n",
       "       [304],\n",
       "       [169],\n",
       "       [310],\n",
       "       [383],\n",
       "       [529],\n",
       "       [145],\n",
       "       [499],\n",
       "       [392],\n",
       "       [321],\n",
       "       [180],\n",
       "       [358],\n",
       "       [320],\n",
       "       [642],\n",
       "       [243],\n",
       "       [397],\n",
       "       [323],\n",
       "       [383],\n",
       "       [410],\n",
       "       [337],\n",
       "       [215],\n",
       "       [392],\n",
       "       [149],\n",
       "       [370],\n",
       "       [437],\n",
       "       [633],\n",
       "       [451],\n",
       "       [344],\n",
       "       [584],\n",
       "       [411],\n",
       "       [527],\n",
       "       [430],\n",
       "       [341],\n",
       "       [547],\n",
       "       [387],\n",
       "       [378],\n",
       "       [360],\n",
       "       [187],\n",
       "       [579],\n",
       "       [232],\n",
       "       [369],\n",
       "       [388],\n",
       "       [236],\n",
       "       [263],\n",
       "       [262],\n",
       "       [103],\n",
       "       [128],\n",
       "       [460],\n",
       "       [147],\n",
       "       [189],\n",
       "       [265],\n",
       "       [188],\n",
       "       [ 93],\n",
       "       [134],\n",
       "       [191],\n",
       "       [267],\n",
       "       [621],\n",
       "       [402],\n",
       "       [469],\n",
       "       [304],\n",
       "       [135],\n",
       "       [186],\n",
       "       [215],\n",
       "       [450],\n",
       "       [383],\n",
       "       [665],\n",
       "       [296],\n",
       "       [270],\n",
       "       [380],\n",
       "       [379],\n",
       "       [360],\n",
       "       [433],\n",
       "       [142],\n",
       "       [410],\n",
       "       [217],\n",
       "       [347],\n",
       "       [299],\n",
       "       [353],\n",
       "       [439],\n",
       "       [636],\n",
       "       [257],\n",
       "       [353],\n",
       "       [518],\n",
       "       [248],\n",
       "       [377],\n",
       "       [183],\n",
       "       [581],\n",
       "       [485],\n",
       "       [167],\n",
       "       [156],\n",
       "       [142],\n",
       "       [272],\n",
       "       [387],\n",
       "       [296],\n",
       "       [268],\n",
       "       [287],\n",
       "       [380],\n",
       "       [817],\n",
       "       [205],\n",
       "       [149],\n",
       "       [370],\n",
       "       [321],\n",
       "       [204],\n",
       "       [372],\n",
       "       [355],\n",
       "       [289],\n",
       "       [365],\n",
       "       [352],\n",
       "       [536],\n",
       "       [165],\n",
       "       [287],\n",
       "       [298],\n",
       "       [332],\n",
       "       [494],\n",
       "       [369],\n",
       "       [396],\n",
       "       [386],\n",
       "       [534],\n",
       "       [656],\n",
       "       [296],\n",
       "       [522],\n",
       "       [340],\n",
       "       [129],\n",
       "       [229],\n",
       "       [126],\n",
       "       [236],\n",
       "       [282],\n",
       "       [982],\n",
       "       [223],\n",
       "       [364],\n",
       "       [721],\n",
       "       [508],\n",
       "       [297],\n",
       "       [527],\n",
       "       [329],\n",
       "       [291],\n",
       "       [377],\n",
       "       [261],\n",
       "       [351],\n",
       "       [270],\n",
       "       [438],\n",
       "       [119],\n",
       "       [377],\n",
       "       [707],\n",
       "       [301],\n",
       "       [299],\n",
       "       [260],\n",
       "       [280],\n",
       "       [401],\n",
       "       [137],\n",
       "       [420],\n",
       "       [754],\n",
       "       [112],\n",
       "       [389],\n",
       "       [155],\n",
       "       [374],\n",
       "       [507],\n",
       "       [342],\n",
       "       [292],\n",
       "       [832],\n",
       "       [442],\n",
       "       [188],\n",
       "       [339],\n",
       "       [344],\n",
       "       [434],\n",
       "       [362],\n",
       "       [382],\n",
       "       [433],\n",
       "       [685],\n",
       "       [489],\n",
       "       [564],\n",
       "       [263],\n",
       "       [440],\n",
       "       [599],\n",
       "       [466],\n",
       "       [173],\n",
       "       [293],\n",
       "       [383],\n",
       "       [368],\n",
       "       [413],\n",
       "       [515],\n",
       "       [142],\n",
       "       [366],\n",
       "       [214],\n",
       "       [538],\n",
       "       [574],\n",
       "       [409],\n",
       "       [282],\n",
       "       [180],\n",
       "       [398],\n",
       "       [287],\n",
       "       [126],\n",
       "       [482],\n",
       "       [503],\n",
       "       [747],\n",
       "       [472],\n",
       "       [196],\n",
       "       [138],\n",
       "       [410],\n",
       "       [307],\n",
       "       [296],\n",
       "       [321],\n",
       "       [192],\n",
       "       [415]], dtype=int64)"
      ]
     },
     "execution_count": 46,
     "metadata": {},
     "output_type": "execute_result"
    }
   ],
   "source": [
    "X.values"
   ]
  },
  {
   "cell_type": "code",
   "execution_count": 47,
   "id": "0e8de34e-abf1-4afd-ad7e-c9617efffe78",
   "metadata": {},
   "outputs": [
    {
     "data": {
      "text/plain": [
       "array([1687.81283751, 2133.96105101, 2431.39319334])"
      ]
     },
     "execution_count": 47,
     "metadata": {},
     "output_type": "execute_result"
    }
   ],
   "source": [
    "lr.predict([[150], [180], [200]])"
   ]
  },
  {
   "cell_type": "code",
   "execution_count": 48,
   "id": "2ee7860a-dfb6-49a6-95bc-bade738feaec",
   "metadata": {},
   "outputs": [
    {
     "data": {
      "text/plain": [
       "array([ 3665.73658403,  6640.05800736,  7101.07782798,  9584.63621646,\n",
       "        4766.23551066,  7919.01621939,  3308.81801323,  7071.33461374,\n",
       "        3412.91926304,  6759.03086429,  8216.44836173,  1509.35355211,\n",
       "        5316.48497398,  7056.46300663,  3457.53408439,  2431.39319334,\n",
       "        3710.35140538,  4498.54658256,  6119.55175828,  6580.57157889,\n",
       "        2951.89944243,  6268.26782944,  2624.72408586,  5375.97140244,\n",
       "        1777.04248021,  4305.21569004,  3754.96622673,  4409.31693986,\n",
       "       13570.22692372,  5569.30229496,  5599.04550919,  2580.10926451,\n",
       "        7829.78657669,  1866.27212291,  2416.52158623,  2728.82533568,\n",
       "        6223.65300809,  6327.75425791,  3918.55390501,  3383.17604881,\n",
       "        3219.58837053,  7457.99639878,  4677.00586796,  6074.93693693,\n",
       "        6431.85550773,  7844.65818381,  5048.79604588,  4215.98604734,\n",
       "        2505.75122893,  4721.62068931,  5048.79604588,  3933.42551213,\n",
       "        5316.48497398,  5599.04550919,  1509.35355211,  1747.29926598,\n",
       "        4989.30961741,  4914.95158183,  3635.99336979,  5256.99854551,\n",
       "        4870.33676048,  3234.45997764,  1836.52890868,  3189.84515629,\n",
       "        2773.44015703,  4215.98604734,  9777.96710897,  5108.28247434,\n",
       "        5673.40354478,  6967.23336393,  4186.24283311,  7457.99639878,\n",
       "        4736.49229643,  4483.67497544,  5673.40354478,  2788.31176414,\n",
       "        3189.84515629,  3219.58837053,  6416.98390061,  2000.11658696,\n",
       "        3740.09461961,  4171.37122599,  4572.90461814,  1271.40783825,\n",
       "        2907.28462108, 11770.76246261,  6119.55175828,  2163.70426525,\n",
       "        4691.87747508,  7532.35443436,  5866.73443729,  6238.52461521,\n",
       "        3160.10194206,  5227.25533128,  3100.61551359,  1241.66462401,\n",
       "        4914.95158183,  3412.91926304,  3041.12908513,  8484.13728983,\n",
       "        3264.20319188,  2282.67712218,  7353.89514896,  9599.50782357,\n",
       "        4885.20836759,  3308.81801323,  1167.30658843,  3368.30444169,\n",
       "        6134.42336539,  3606.25015556,  3174.97354918,  2892.41301396,\n",
       "        6759.03086429,  6506.21354331,  3442.66247728,  4944.69479606,\n",
       "        2223.19069371,  8766.69782504,  2029.8598012 ,  1494.481945  ,\n",
       "        1360.63748095,  8365.16443289,  6610.31479313,  1197.04980266,\n",
       "        2312.42033641,  2357.03515776,  5896.47765153,  3308.81801323,\n",
       "        8528.75211118,  3606.25015556,  3635.99336979,  1866.27212291,\n",
       "        5509.81586649,  5807.24800883,  6179.03818674,  3279.07479899,\n",
       "        4126.75640464,  3591.37854844,  2059.60301543, 10283.60175094,\n",
       "        6283.13943656,  6640.05800736,  7621.58407706,  5212.38372416,\n",
       "        2847.79819261,  4528.28979679,  4974.43801029,  1687.81283751,\n",
       "        2312.42033641,  1256.53623113,  5926.22086576,  4706.74908219,\n",
       "        2193.44747948,  4572.90461814,  2951.89944243,  1583.7115877 ,\n",
       "        4483.67497544,  5494.94425938,  5494.94425938,  2951.89944243,\n",
       "        5123.15408146,  1836.52890868,  7115.94943509,  2476.00801469,\n",
       "        5836.99122306,  4914.95158183,  2639.59569298,  2104.21783678,\n",
       "        2713.95372856,  6283.13943656,  1940.6301585 ,  3903.68229789,\n",
       "        4572.90461814,  4498.54658256, 10610.77710751,  2520.62283604,\n",
       "        2743.69694279,  3799.58104808,  4156.49961888,  7785.17175534,\n",
       "        3829.32426231,  5138.02568858,  6283.13943656,  4439.06015409,\n",
       "       11428.71549892,  4156.49961888,  4052.39836906,  1940.6301585 ,\n",
       "        7695.94211264,  4305.21569004,  5182.64050993,  9882.06835879,\n",
       "        3725.22301249, 10313.34496517,  2148.83265813,  5375.97140244,\n",
       "        7145.69264933,  3978.04033348,  1970.37337273,  4067.26997618,\n",
       "        5152.89729569,  7324.15193473,  1613.45480193,  6878.00372123,\n",
       "        5286.74175974,  4230.85765446,  2133.96105101,  4781.10711778,\n",
       "        4215.98604734,  9004.64353891,  3070.87229936,  5361.09979533,\n",
       "        4260.60086869,  5152.89729569,  5554.43068784,  4468.80336833,\n",
       "        2654.46730009,  5286.74175974,  1672.9412304 ,  4959.56640318,\n",
       "        5955.96407999,  8870.79907486,  6164.16657963,  4572.90461814,\n",
       "        8142.09032614,  5569.30229496,  7294.40872049,  5851.86283018,\n",
       "        4528.28979679,  7591.84086283,  5212.38372416,  5078.53926011,\n",
       "        4810.85033201,  2238.06230083,  8067.73229056,  2907.28462108,\n",
       "        4944.69479606,  5227.25533128,  2966.77104954,  3368.30444169,\n",
       "        3353.43283458,   988.84730303,  1360.63748095,  6298.01104368,\n",
       "        1643.19801616,  2267.80551506,  3398.04765593,  2252.93390794,\n",
       "         840.13123186,  1449.86712365,  2297.54872929,  3427.79087016,\n",
       "        8692.33978946,  5435.45783091,  6431.85550773,  3978.04033348,\n",
       "        1464.73873076,  2223.19069371,  2654.46730009,  6149.29497251,\n",
       "        5152.89729569,  9346.69050259,  3859.06747654,  3472.40569151,\n",
       "        5108.28247434,  5093.41086723,  4810.85033201,  5896.47765153,\n",
       "        1568.83998058,  5554.43068784,  2684.21051433,  4617.51943949,\n",
       "        3903.68229789,  4706.74908219,  5985.70729423,  8915.41389621,\n",
       "        3279.07479899,  4706.74908219,  7160.56425644,  3145.23033494,\n",
       "        5063.66765299,  2178.57587236,  8097.47550479,  6669.80122159,\n",
       "        1940.6301585 ,  1777.04248021,  1568.83998058,  3502.14890574,\n",
       "        5212.38372416,  3859.06747654,  3442.66247728,  3725.22301249,\n",
       "        5108.28247434, 11607.17478432,  2505.75122893,  1672.9412304 ,\n",
       "        4959.56640318,  4230.85765446,  2490.87962181,  4989.30961741,\n",
       "        4736.49229643,  3754.96622673,  4885.20836759,  4691.87747508,\n",
       "        7428.25318454,  1910.88694426,  3725.22301249,  3888.81069078,\n",
       "        4394.44533274,  6803.64568564,  4944.69479606,  5346.22818821,\n",
       "        5197.51211704,  7398.50997031,  9212.84603854,  3859.06747654,\n",
       "        7220.05068491,  4513.41818968,  1375.50908806,  2862.66979973,\n",
       "        1330.89426671,  2966.77104954,  3650.86497691, 14060.98995857,\n",
       "        2773.44015703,  4870.33676048, 10179.50050112,  7011.84818528,\n",
       "        3873.93908366,  7294.40872049,  4349.83051139,  3784.70944096,\n",
       "        5063.66765299,  3338.56122746,  4677.00586796,  3472.40569151,\n",
       "        5970.83568711,  1226.7930169 ,  5063.66765299,  9971.29800149,\n",
       "        3933.42551213,  3903.68229789,  3323.68962034,  3621.12176268,\n",
       "        5420.58622379,  1494.481945  ,  5703.14675901, 10670.26353597,\n",
       "        1122.69176708,  5242.12693839,  1762.1708731 ,  5019.05283164,\n",
       "        6996.97657816,  4543.16140391,  3799.58104808, 11830.24889107,\n",
       "        6030.32211558,  2252.93390794,  4498.54658256,  4572.90461814,\n",
       "        5911.34925864,  4840.59354624,  5138.02568858,  5896.47765153,\n",
       "        9644.12264492,  6729.28765006,  7844.65818381,  3368.30444169,\n",
       "        6000.57890134,  8365.16443289,  6387.24068638,  2029.8598012 ,\n",
       "        3814.45265519,  5152.89729569,  4929.82318894,  5599.04550919,\n",
       "        7115.94943509,  1568.83998058,  4900.07997471,  2639.59569298,\n",
       "        7457.99639878,  7993.37425498,  5539.55908073,  3650.86497691,\n",
       "        2133.96105101,  5375.97140244,  3725.22301249,  1330.89426671,\n",
       "        6625.18640024,  6937.49014969, 10566.16228616,  6476.47032908,\n",
       "        2371.90676488,  1509.35355211,  5554.43068784,  4022.65515483,\n",
       "        3859.06747654,  4230.85765446,  2312.42033641,  5628.78872343])"
      ]
     },
     "execution_count": 48,
     "metadata": {},
     "output_type": "execute_result"
    }
   ],
   "source": [
    "y_pred = lr.predict(X)\n",
    "y_pred"
   ]
  },
  {
   "cell_type": "markdown",
   "id": "f158b2ce-5ba9-4b74-aeec-6e6f42297375",
   "metadata": {},
   "source": [
    "### Statsmodels"
   ]
  },
  {
   "cell_type": "code",
   "execution_count": 49,
   "id": "e09a739a-430c-48b4-a9cf-9f8f7c4e5265",
   "metadata": {},
   "outputs": [],
   "source": [
    "import statsmodels.api as sm"
   ]
  },
  {
   "cell_type": "code",
   "execution_count": 50,
   "id": "00a90fdf-6f11-4de9-963e-2c0c67bf87b0",
   "metadata": {},
   "outputs": [],
   "source": [
    "x = sm.add_constant(X)\n",
    "\n",
    "model = sm.OLS(y, x).fit()"
   ]
  },
  {
   "cell_type": "code",
   "execution_count": 51,
   "id": "6660e4c4-adfa-4729-afec-dcfb25a3dad2",
   "metadata": {},
   "outputs": [
    {
     "data": {
      "text/html": [
       "<table class=\"simpletable\">\n",
       "<caption>OLS Regression Results</caption>\n",
       "<tr>\n",
       "  <th>Dep. Variable:</th>          <td>Limit</td>      <th>  R-squared:         </th> <td>   0.994</td> \n",
       "</tr>\n",
       "<tr>\n",
       "  <th>Model:</th>                   <td>OLS</td>       <th>  Adj. R-squared:    </th> <td>   0.994</td> \n",
       "</tr>\n",
       "<tr>\n",
       "  <th>Method:</th>             <td>Least Squares</td>  <th>  F-statistic:       </th> <td>6.348e+04</td>\n",
       "</tr>\n",
       "<tr>\n",
       "  <th>Date:</th>             <td>Sat, 11 Dec 2021</td> <th>  Prob (F-statistic):</th>  <td>  0.00</td>  \n",
       "</tr>\n",
       "<tr>\n",
       "  <th>Time:</th>                 <td>17:51:04</td>     <th>  Log-Likelihood:    </th> <td> -2649.1</td> \n",
       "</tr>\n",
       "<tr>\n",
       "  <th>No. Observations:</th>      <td>   400</td>      <th>  AIC:               </th> <td>   5302.</td> \n",
       "</tr>\n",
       "<tr>\n",
       "  <th>Df Residuals:</th>          <td>   398</td>      <th>  BIC:               </th> <td>   5310.</td> \n",
       "</tr>\n",
       "<tr>\n",
       "  <th>Df Model:</th>              <td>     1</td>      <th>                     </th>     <td> </td>    \n",
       "</tr>\n",
       "<tr>\n",
       "  <th>Covariance Type:</th>      <td>nonrobust</td>    <th>                     </th>     <td> </td>    \n",
       "</tr>\n",
       "</table>\n",
       "<table class=\"simpletable\">\n",
       "<tr>\n",
       "    <td></td>       <th>coef</th>     <th>std err</th>      <th>t</th>      <th>P>|t|</th>  <th>[0.025</th>    <th>0.975]</th>  \n",
       "</tr>\n",
       "<tr>\n",
       "  <th>const</th> <td> -542.9282</td> <td>   22.850</td> <td>  -23.760</td> <td> 0.000</td> <td> -587.851</td> <td> -498.006</td>\n",
       "</tr>\n",
       "<tr>\n",
       "  <th>Score</th> <td>   14.8716</td> <td>    0.059</td> <td>  251.949</td> <td> 0.000</td> <td>   14.756</td> <td>   14.988</td>\n",
       "</tr>\n",
       "</table>\n",
       "<table class=\"simpletable\">\n",
       "<tr>\n",
       "  <th>Omnibus:</th>       <td> 6.887</td> <th>  Durbin-Watson:     </th> <td>   2.080</td>\n",
       "</tr>\n",
       "<tr>\n",
       "  <th>Prob(Omnibus):</th> <td> 0.032</td> <th>  Jarque-Bera (JB):  </th> <td>   4.980</td>\n",
       "</tr>\n",
       "<tr>\n",
       "  <th>Skew:</th>          <td>-0.145</td> <th>  Prob(JB):          </th> <td>  0.0829</td>\n",
       "</tr>\n",
       "<tr>\n",
       "  <th>Kurtosis:</th>      <td> 2.537</td> <th>  Cond. No.          </th> <td>    970.</td>\n",
       "</tr>\n",
       "</table><br/><br/>Notes:<br/>[1] Standard Errors assume that the covariance matrix of the errors is correctly specified."
      ],
      "text/plain": [
       "<class 'statsmodels.iolib.summary.Summary'>\n",
       "\"\"\"\n",
       "                            OLS Regression Results                            \n",
       "==============================================================================\n",
       "Dep. Variable:                  Limit   R-squared:                       0.994\n",
       "Model:                            OLS   Adj. R-squared:                  0.994\n",
       "Method:                 Least Squares   F-statistic:                 6.348e+04\n",
       "Date:                Sat, 11 Dec 2021   Prob (F-statistic):               0.00\n",
       "Time:                        17:51:04   Log-Likelihood:                -2649.1\n",
       "No. Observations:                 400   AIC:                             5302.\n",
       "Df Residuals:                     398   BIC:                             5310.\n",
       "Df Model:                           1                                         \n",
       "Covariance Type:            nonrobust                                         \n",
       "==============================================================================\n",
       "                 coef    std err          t      P>|t|      [0.025      0.975]\n",
       "------------------------------------------------------------------------------\n",
       "const       -542.9282     22.850    -23.760      0.000    -587.851    -498.006\n",
       "Score         14.8716      0.059    251.949      0.000      14.756      14.988\n",
       "==============================================================================\n",
       "Omnibus:                        6.887   Durbin-Watson:                   2.080\n",
       "Prob(Omnibus):                  0.032   Jarque-Bera (JB):                4.980\n",
       "Skew:                          -0.145   Prob(JB):                       0.0829\n",
       "Kurtosis:                       2.537   Cond. No.                         970.\n",
       "==============================================================================\n",
       "\n",
       "Notes:\n",
       "[1] Standard Errors assume that the covariance matrix of the errors is correctly specified.\n",
       "\"\"\""
      ]
     },
     "execution_count": 51,
     "metadata": {},
     "output_type": "execute_result"
    }
   ],
   "source": [
    "model.summary()"
   ]
  },
  {
   "cell_type": "markdown",
   "id": "63f711cc-349a-4403-9506-df5c00e9b832",
   "metadata": {},
   "source": [
    "## Influência dos Outliers"
   ]
  },
  {
   "cell_type": "markdown",
   "id": "dbf6034a-1aed-4b22-8193-0fadd4b7faa8",
   "metadata": {},
   "source": [
    "### Obtendo apenas 100 amostras (como array)"
   ]
  },
  {
   "cell_type": "code",
   "execution_count": 59,
   "id": "4321d767-5a2e-44f5-b935-68aa8737b54b",
   "metadata": {},
   "outputs": [],
   "source": [
    "X = df['Score'].values[:400]\n",
    "y = df['Limit'].values[:400]\n"
   ]
  },
  {
   "cell_type": "code",
   "execution_count": 56,
   "id": "5156d7cf-eeb9-4f54-bd4a-7f80ae525969",
   "metadata": {},
   "outputs": [
    {
     "data": {
      "text/plain": [
       "(100,)"
      ]
     },
     "execution_count": 56,
     "metadata": {},
     "output_type": "execute_result"
    }
   ],
   "source": [
    "X.shape"
   ]
  },
  {
   "cell_type": "code",
   "execution_count": 55,
   "id": "398b9463-b002-45d9-911d-ccfaf8f66d0f",
   "metadata": {},
   "outputs": [
    {
     "data": {
      "text/plain": [
       "(100,)"
      ]
     },
     "execution_count": 55,
     "metadata": {},
     "output_type": "execute_result"
    }
   ],
   "source": [
    "y.shape"
   ]
  },
  {
   "cell_type": "code",
   "execution_count": 57,
   "id": "c5129e17-39e3-44e1-9dfd-f5354692b341",
   "metadata": {},
   "outputs": [
    {
     "data": {
      "text/plain": [
       "<matplotlib.collections.PathCollection at 0x18b58befdc0>"
      ]
     },
     "execution_count": 57,
     "metadata": {},
     "output_type": "execute_result"
    },
    {
     "data": {
      "image/png": "[encoded data removed]",
      "text/plain": [
       "<Figure size 432x288 with 1 Axes>"
      ]
     },
     "metadata": {},
     "output_type": "display_data"
    }
   ],
   "source": [
    "plt.scatter(X, y)"
   ]
  },
  {
   "cell_type": "markdown",
   "id": "82aeac33-6337-450b-a2fc-b71d3db0b401",
   "metadata": {},
   "source": [
    "### Modelo sem a presença dos outliers"
   ]
  },
  {
   "cell_type": "code",
   "execution_count": 61,
   "id": "9aab01c3-d585-4d06-bd81-96805fb5d366",
   "metadata": {},
   "outputs": [],
   "source": [
    "lr = LinearRegression().fit(X.reshape(-1, 1), y)"
   ]
  },
  {
   "cell_type": "code",
   "execution_count": 62,
   "id": "6b3b2c98-1dbb-4487-82ac-2abdbb12a90b",
   "metadata": {},
   "outputs": [
    {
     "data": {
      "text/plain": [
       "array([14.87160712])"
      ]
     },
     "execution_count": 62,
     "metadata": {},
     "output_type": "execute_result"
    }
   ],
   "source": [
    "lr.coef_"
   ]
  },
  {
   "cell_type": "code",
   "execution_count": 63,
   "id": "1bfd6587-ea68-4149-a5fd-767d84e474e9",
   "metadata": {},
   "outputs": [
    {
     "data": {
      "text/plain": [
       "-542.9282299869001"
      ]
     },
     "execution_count": 63,
     "metadata": {},
     "output_type": "execute_result"
    }
   ],
   "source": [
    "lr.intercept_"
   ]
  },
  {
   "cell_type": "code",
   "execution_count": 64,
   "id": "8648a43a-5dc7-4198-8b98-a4f9e84911f4",
   "metadata": {},
   "outputs": [],
   "source": [
    "y_est = lr.predict(X.reshape(-1, 1))"
   ]
  },
  {
   "cell_type": "code",
   "execution_count": 65,
   "id": "cf82bd24-6bcd-412e-a4d0-ca5b6902384c",
   "metadata": {},
   "outputs": [],
   "source": [
    "residuos = y - y_est # Valor verdadeiro - Valor estimado"
   ]
  },
  {
   "cell_type": "code",
   "execution_count": 66,
   "id": "e206d3ed-5572-4786-8671-4d69074ade85",
   "metadata": {},
   "outputs": [
    {
     "data": {
      "text/plain": [
       "array([ -59.73658403,    4.94199264,  -26.07782798,  -80.63621646,\n",
       "        130.76448934,  127.98378061,   79.18198677,   42.66538626,\n",
       "       -112.91926304,   59.96913571,  -99.44836173, -198.35355211,\n",
       "         -8.48497398, -134.46300663, -166.53408439,   93.60680666,\n",
       "          3.64859462, -120.54658256,  264.44824172,   45.42842111,\n",
       "        -91.89944243,  109.73217056,    6.27591414, -196.97140244,\n",
       "        -20.04248021,   17.78430996, -129.96622673,  124.68306014,\n",
       "       -156.22692372,   41.69770504,   66.95449081,  152.89073549,\n",
       "          8.21342331,  -37.27212291,  229.47841377, -170.82533568,\n",
       "        233.34699191,  153.24574209,  -19.55390501,   77.82395119,\n",
       "        107.41162947,  201.00360122,   85.99413204,  182.06306307,\n",
       "        -56.85550773, -275.65818381,   -5.79604588,  215.01395266,\n",
       "       -253.75122893, -152.62068931,  134.20395412,   35.57448787,\n",
       "        124.51502602, -133.04550919,  -10.35355211,   38.70073402,\n",
       "       -247.30961741, -135.95158183, -155.99336979,   37.00145449,\n",
       "        327.66323952, -145.45997764, -165.52890868, -191.84515629,\n",
       "        163.55984297,  -55.98604734,  -73.96710897,   -9.28247434,\n",
       "        -54.40354478, -148.23336393, -232.24283311,  -55.99639878,\n",
       "        186.50770357,   39.32502456, -283.40354478,  391.68823586,\n",
       "        103.15484371,   34.41162947,  245.01609939,  100.88341304,\n",
       "       -291.09461961,   91.62877401, -139.90461814,  161.59216175,\n",
       "         -1.28462108,  295.23753739,  220.44824172,  107.29573475,\n",
       "       -384.87747508,  -14.35443436,  -99.73443729, -198.52461521,\n",
       "       -328.10194206,  207.74466872,  -25.61551359, -386.66462401,\n",
       "        467.04841817,  -24.91926304,  -78.12908513,    9.86271017,\n",
       "        471.79680812,  150.32287782,  228.10485104,  -59.50782357,\n",
       "       -117.20836759, -126.81801323,  169.69341157, -179.30444169,\n",
       "       -101.42336539, -345.25015556,   96.02645082,   66.58698604,\n",
       "       -122.03086429, -120.21354331, -116.66247728, -116.69479606,\n",
       "       -106.19069371,  346.30217496,  131.1401988 ,  -84.481945  ,\n",
       "         41.36251905, -208.16443289,  445.68520687,  102.95019734,\n",
       "        216.57966359,  173.96484224, -363.47765153,  102.18198677,\n",
       "       -152.75211118, -145.25015556,  185.00663021, -298.27212291,\n",
       "        -66.81586649,   21.75199117, -344.03818674,  220.92520101,\n",
       "        -10.75640464,   21.62145156,   13.39698457,  100.39824906,\n",
       "       -238.13943656,  113.94199264, -205.58407706, -316.38372416,\n",
       "        -99.79819261,  144.71020321,  135.56198971, -186.81283751,\n",
       "        107.57966359, -370.53623113, -198.22086576,  124.25091781,\n",
       "        -73.44747948,   39.09538186,  203.10055757, -221.7115877 ,\n",
       "       -199.67497544,   26.05574062,   55.05574062,   48.10055757,\n",
       "       -258.15408146, -131.52890868,  414.05056491, -146.00801469,\n",
       "        140.00877694, -387.95158183,  240.40430702,  222.78216322,\n",
       "        106.04627144, -104.13943656,   80.3698415 ,  366.31770211,\n",
       "        124.09538186,  246.45341744,   62.22289249, -352.62283604,\n",
       "       -136.69694279,  165.41895192,  234.50038112, -286.17175534,\n",
       "       -245.32426231,   41.97431142,  136.86056344, -349.06015409,\n",
       "        160.28450108,  285.50038112, -246.39836906,  238.3698415 ,\n",
       "        -28.94211264,  105.78430996,  169.35949007, -322.06835879,\n",
       "        207.77698751, -225.34496517,  -28.83265813,    8.02859756,\n",
       "        252.30735067,   -1.04033348,   29.62662727,   91.73002382,\n",
       "        190.10270431,    8.84806527, -165.45480193,  -94.00372123,\n",
       "         23.25824026, -352.85765446,  316.03894899, -390.10711778,\n",
       "        111.01395266,  151.35646109,  135.12770064,  -52.09979533,\n",
       "         90.39913131,   92.10270431, -265.43068784, -239.80336833,\n",
       "        107.53269991,  108.25824026,  -25.9412304 ,  262.43359682,\n",
       "       -190.96407999, -110.79907486,   42.83342037,   40.09538186,\n",
       "       -324.09032614,  103.69770504, -388.40872049, -237.86283018,\n",
       "        139.71020321,  -36.84086283,  -75.38372416, -302.53926011,\n",
       "        -22.85033201,   39.93769917,  176.26770944,   15.71537892,\n",
       "         41.30520394,  -78.25533128,  -56.77104954,  188.69555831,\n",
       "         -2.43283458,  -82.84730303, -127.63748095,  318.98895632,\n",
       "        143.80198384, -266.80551506, -187.04765593,  -32.93390794,\n",
       "         64.86876814,  101.13287635,  132.45127071, -225.79087016,\n",
       "        -89.33978946, -253.45783091,  -45.85550773,  242.95966652,\n",
       "        309.26126924,  269.80930629,  -93.46730009,   46.70502749,\n",
       "         31.10270431,  -36.69050259,  189.93252346,   63.59430849,\n",
       "         -1.28247434,  -80.41086723,  141.14966799,  -63.47765153,\n",
       "       -219.83998058,   10.56931216,  400.78948567,  248.48056051,\n",
       "       -213.68229789,   -0.74908219, -116.70729423, -183.41389621,\n",
       "        196.92520101,  293.25091781, -178.56425644,  -82.23033494,\n",
       "        255.33234701, -326.57587236,    2.52449521, -273.80122159,\n",
       "        106.3698415 , -151.04248021,  -16.83998058, -404.14890574,\n",
       "         61.61627584,   47.93252346, -207.66247728,  -60.22301249,\n",
       "        -12.28247434, -407.17478432,   26.24877107, -283.9412304 ,\n",
       "        180.43359682,  150.14234554,  181.12037819,   61.69038259,\n",
       "       -104.49229643, -228.96622673,   78.79163241,  278.12252492,\n",
       "         77.74681546,   13.11305574,   36.77698751,  -14.81069078,\n",
       "        245.55466726,  206.35431436,  -53.69479606,   82.77181179,\n",
       "         29.48788296,  286.49002969,   59.15396146,   47.93252346,\n",
       "         85.94931509,  198.58181032,  109.49091194, -276.66979973,\n",
       "       -170.89426671,  129.22895046, -166.86497691, -147.98995857,\n",
       "         89.55984297,  201.66323952,   50.49949888, -349.84818528,\n",
       "       -200.93908366,  281.59127951,  193.16948861,  191.29055904,\n",
       "        164.33234701,   63.43877254,   78.99413204,  -63.40569151,\n",
       "        -86.83568711, -371.7930169 ,  239.33234701,  306.70199851,\n",
       "       -126.42551213,   18.31770211, -368.68962034,  124.87823732,\n",
       "       -221.58622379,   16.518055  , -323.14675901,   77.73646403,\n",
       "         11.30823292,  -97.12693839, -201.1708731 ,  120.94716836,\n",
       "        143.02342184,  172.83859609,   73.41895192,  135.75110893,\n",
       "         59.67788442,  286.06609206, -162.54658256, -101.90461814,\n",
       "        -20.34925864,  102.40645376,  -37.02568858,  230.52234847,\n",
       "        179.87735508, -287.28765006,   26.34181619,  246.69555831,\n",
       "       -241.57890134, -337.16443289, -252.24068638,  120.1401988 ,\n",
       "        -32.45265519,  201.10270431,  -89.82318894,   73.95449081,\n",
       "         51.05056491,   -1.83998058,   40.92002529,  220.40430702,\n",
       "        302.00360122,   35.62574502,  -44.55908073, -376.86497691,\n",
       "       -263.96105101,  264.02859756,  -42.22301249,   26.10573329,\n",
       "        201.81359976,  162.50985031,   11.83771384,   78.52967092,\n",
       "        -63.90676488, -174.35355211,  203.56931216,   77.34484517,\n",
       "        -21.06747654,  -59.85765446,  212.57966359, -104.78872343])"
      ]
     },
     "execution_count": 66,
     "metadata": {},
     "output_type": "execute_result"
    }
   ],
   "source": [
    "residuos"
   ]
  },
  {
   "cell_type": "code",
   "execution_count": 69,
   "id": "3dbd431c-c8bd-4f8c-993c-5504bf7911d9",
   "metadata": {},
   "outputs": [
    {
     "data": {
      "text/plain": [
       "[<matplotlib.lines.Line2D at 0x18b58eb9430>]"
      ]
     },
     "execution_count": 69,
     "metadata": {},
     "output_type": "execute_result"
    },
    {
     "data": {
      "image/png": "[encoded data removed]",
      "text/plain": [
       "<Figure size 432x288 with 1 Axes>"
      ]
     },
     "metadata": {},
     "output_type": "display_data"
    }
   ],
   "source": [
    "plt.scatter(X, y)\n",
    "plt.plot(X, y_est, color='r')"
   ]
  },
  {
   "cell_type": "markdown",
   "id": "46eb0115-3361-4767-9ef6-695163333008",
   "metadata": {},
   "source": [
    "## Características dos Resíduos\n",
    "\n",
    "#### 1. Não devem ser correlacionados"
   ]
  },
  {
   "cell_type": "markdown",
   "id": "0e8a1d7a-fe23-440c-a0bd-1bd6ff112e16",
   "metadata": {},
   "source": [
    "#### Sem outliers"
   ]
  },
  {
   "cell_type": "code",
   "execution_count": 71,
   "id": "457189b3-7c6e-4f48-9947-7e9c8f8c556f",
   "metadata": {},
   "outputs": [
    {
     "data": {
      "text/plain": [
       "<matplotlib.collections.PathCollection at 0x18b58f065b0>"
      ]
     },
     "execution_count": 71,
     "metadata": {},
     "output_type": "execute_result"
    },
    {
     "data": {
      "image/png": "[encoded data removed]",
      "text/plain": [
       "<Figure size 432x288 with 1 Axes>"
      ]
     },
     "metadata": {},
     "output_type": "display_data"
    }
   ],
   "source": [
    "plt.scatter(y, y - y_est)"
   ]
  },
  {
   "cell_type": "markdown",
   "id": "bad950b2-47d8-459b-9e2c-1b19309d419c",
   "metadata": {},
   "source": [
    "### 2. Ter média zero\n",
    "#### Sem outliers"
   ]
  },
  {
   "cell_type": "code",
   "execution_count": 73,
   "id": "55891db6-e2b8-4ef3-b9f4-7c829bb3a3db",
   "metadata": {},
   "outputs": [
    {
     "data": {
      "text/plain": [
       "-5.405809133662842e-13"
      ]
     },
     "execution_count": 73,
     "metadata": {},
     "output_type": "execute_result"
    }
   ],
   "source": [
    "residuos = y - y_est\n",
    "\n",
    "residuos.mean()"
   ]
  },
  {
   "cell_type": "markdown",
   "id": "61ba6bb6-d5bf-4b63-9a41-783c9dc3e984",
   "metadata": {},
   "source": [
    "### 4. Distribuição normal dos resíduos"
   ]
  },
  {
   "cell_type": "code",
   "execution_count": 74,
   "id": "b8490c13-8d1b-4058-87bf-2742386a46ae",
   "metadata": {},
   "outputs": [
    {
     "data": {
      "text/plain": [
       "<AxesSubplot:ylabel='Count'>"
      ]
     },
     "execution_count": 74,
     "metadata": {},
     "output_type": "execute_result"
    },
    {
     "data": {
      "image/png": "[encoded data removed]",
      "text/plain": [
       "<Figure size 432x288 with 1 Axes>"
      ]
     },
     "metadata": {},
     "output_type": "display_data"
    }
   ],
   "source": [
    "sns.histplot(residuos, kde=True)"
   ]
  },
  {
   "cell_type": "code",
   "execution_count": 76,
   "id": "c2b4a040-88ca-4296-afa6-0bb24e60d758",
   "metadata": {},
   "outputs": [
    {
     "data": {
      "text/plain": [
       "NormaltestResult(statistic=6.887440109916825, pvalue=0.03194562452987782)"
      ]
     },
     "execution_count": 76,
     "metadata": {},
     "output_type": "execute_result"
    }
   ],
   "source": [
    "from scipy.stats import normaltest\n",
    "normaltest(residuos)"
   ]
  },
  {
   "cell_type": "markdown",
   "id": "140691dc-e4c1-428e-a600-6a9025475e73",
   "metadata": {},
   "source": [
    "## Métricas para Análise dos Erros\n",
    "\n",
    "$$\n",
    "SQE = \\sum_{i=1}^N \\epsilon_i^2 = \\frac{1}{N} \\sum_{i=1}^N \\left[y_i - \\hat{y}_i\\right]^2 = \\frac{1}{N} \\sum_{i=1}^N \\left[y_i - (\\beta_0 + \\beta_1x_i)\\right]^2\n",
    "$$\n",
    "\n",
    "$$\n",
    "SQT = \\sum_{i=1}^N \\left(\\hat{y}_i - \\overline{y}\\right)^2\n",
    "$$\n",
    "\n",
    "$$\n",
    "SQExp = \\sum_{i=1}^N \\left(y_i - \\overline{y}\\right)^2\n",
    "$$"
   ]
  },
  {
   "cell_type": "markdown",
   "id": "1e3e718f-3e55-468b-a48f-e37920219ee9",
   "metadata": {},
   "source": [
    "### 1. R-Quadrado ($R^2$)\n",
    "\n",
    "$$\n",
    "R^2 = 1 - \\frac{SQE}{SQT} = \\frac{SQT - SQExp}{SQT} = \\frac{SQExp}{SQT}\n",
    "$$"
   ]
  },
  {
   "cell_type": "code",
   "execution_count": 80,
   "id": "58c6e977-7ab9-4eab-bb2c-c57abb64cfcd",
   "metadata": {},
   "outputs": [],
   "source": [
    "# Valores estimados, utilizando o modelo treinado com os outliers, para os dados com outliers\n",
    "y_est = lr.predict(X.reshape(-1, 1))"
   ]
  },
  {
   "cell_type": "code",
   "execution_count": 81,
   "id": "95e9cbec-4d59-47b5-b3cd-d2c93ff1587b",
   "metadata": {},
   "outputs": [],
   "source": [
    "from sklearn.metrics import r2_score"
   ]
  },
  {
   "cell_type": "code",
   "execution_count": 82,
   "id": "6611946c-dd5f-466b-bce5-2705321b499a",
   "metadata": {},
   "outputs": [
    {
     "data": {
      "text/plain": [
       "(400,)"
      ]
     },
     "execution_count": 82,
     "metadata": {},
     "output_type": "execute_result"
    }
   ],
   "source": [
    "y.shape"
   ]
  },
  {
   "cell_type": "code",
   "execution_count": 83,
   "id": "b3ef2e34-c135-48ce-ad86-ac2ed06ef471",
   "metadata": {},
   "outputs": [
    {
     "data": {
      "text/plain": [
       "(400,)"
      ]
     },
     "execution_count": 83,
     "metadata": {},
     "output_type": "execute_result"
    }
   ],
   "source": [
    "y_est.shape"
   ]
  },
  {
   "cell_type": "code",
   "execution_count": 84,
   "id": "a66dbc3a-a65f-40a1-af6b-fa539e976b5b",
   "metadata": {},
   "outputs": [
    {
     "data": {
      "text/plain": [
       "0.9937692100445441"
      ]
     },
     "execution_count": 84,
     "metadata": {},
     "output_type": "execute_result"
    }
   ],
   "source": [
    "r2_score(y, y_est)"
   ]
  },
  {
   "cell_type": "code",
   "execution_count": 91,
   "id": "6b2d5232-8c6a-4221-a596-39d3f5413ed7",
   "metadata": {},
   "outputs": [
    {
     "data": {
      "text/plain": [
       "0.9937692100445441"
      ]
     },
     "execution_count": 91,
     "metadata": {},
     "output_type": "execute_result"
    }
   ],
   "source": [
    "r2_score(y, lr.predict(X.reshape(-1, 1)))"
   ]
  },
  {
   "cell_type": "code",
   "execution_count": 92,
   "id": "2a4d16f7-29cd-446e-959f-860cfea22d98",
   "metadata": {},
   "outputs": [
    {
     "data": {
      "text/plain": [
       "0.9937692100445441"
      ]
     },
     "execution_count": 92,
     "metadata": {},
     "output_type": "execute_result"
    }
   ],
   "source": [
    "lr.score(X.reshape(-1, 1), y) # r2_score"
   ]
  },
  {
   "cell_type": "markdown",
   "id": "0d253846-38ce-40c5-a8e5-88ea738ff861",
   "metadata": {},
   "source": [
    "### 2. MAE"
   ]
  },
  {
   "cell_type": "code",
   "execution_count": 98,
   "id": "3959a751-b02f-4dc3-baab-292a33b5bbfe",
   "metadata": {},
   "outputs": [],
   "source": [
    "from sklearn.metrics import mean_absolute_error"
   ]
  },
  {
   "cell_type": "code",
   "execution_count": 99,
   "id": "d80f4fbd-91d6-4f13-a5da-aa6f6de97e5c",
   "metadata": {},
   "outputs": [
    {
     "data": {
      "text/plain": [
       "148.1136168180826"
      ]
     },
     "execution_count": 99,
     "metadata": {},
     "output_type": "execute_result"
    }
   ],
   "source": [
    "mean_absolute_error(y, y_est)"
   ]
  },
  {
   "cell_type": "markdown",
   "id": "b0f864cc-240c-4fc3-8ff0-0b60458a79a9",
   "metadata": {},
   "source": [
    "### 3. MSE"
   ]
  },
  {
   "cell_type": "code",
   "execution_count": 101,
   "id": "9b295198-5f01-497f-b82c-149662800936",
   "metadata": {},
   "outputs": [],
   "source": [
    "from sklearn.metrics import mean_squared_error as MSE"
   ]
  },
  {
   "cell_type": "code",
   "execution_count": 102,
   "id": "fe8a90cd-d871-4af6-8619-9fede4af55f0",
   "metadata": {},
   "outputs": [
    {
     "data": {
      "text/plain": [
       "33113.29934556935"
      ]
     },
     "execution_count": 102,
     "metadata": {},
     "output_type": "execute_result"
    }
   ],
   "source": [
    "MSE(y, y_est)"
   ]
  },
  {
   "cell_type": "markdown",
   "id": "871d8d49-bf9e-4057-9420-fb107a88a020",
   "metadata": {},
   "source": [
    "### 4. RMSE"
   ]
  },
  {
   "cell_type": "code",
   "execution_count": 103,
   "id": "f717fa61-6eeb-4ee9-84f2-4b147d228a31",
   "metadata": {},
   "outputs": [
    {
     "data": {
      "text/plain": [
       "181.97060022313866"
      ]
     },
     "execution_count": 103,
     "metadata": {},
     "output_type": "execute_result"
    }
   ],
   "source": [
    "np.sqrt(MSE(y, y_est))"
   ]
  },
  {
   "cell_type": "markdown",
   "id": "14971702-1753-4750-848e-19fb546c0157",
   "metadata": {},
   "source": [
    "### 5. RMSLE"
   ]
  },
  {
   "cell_type": "code",
   "execution_count": 104,
   "id": "e779944d-bd03-4d74-a0cb-5b107c10d371",
   "metadata": {},
   "outputs": [],
   "source": [
    "from sklearn.metrics import mean_squared_log_error"
   ]
  },
  {
   "cell_type": "code",
   "execution_count": 105,
   "id": "535356be-e15a-4f44-92e4-ed645c5da759",
   "metadata": {},
   "outputs": [
    {
     "data": {
      "text/plain": [
       "0.00374033208373605"
      ]
     },
     "execution_count": 105,
     "metadata": {},
     "output_type": "execute_result"
    }
   ],
   "source": [
    "mean_squared_log_error(y, y_est)"
   ]
  },
  {
   "cell_type": "code",
   "execution_count": null,
   "id": "a64c947f-d877-42d3-a536-af8688daefa2",
   "metadata": {},
   "outputs": [],
   "source": []
  }
 ],
 "metadata": {
  "kernelspec": {
   "display_name": "Python 3",
   "language": "python",
   "name": "python3"
  },
  "language_info": {
   "codemirror_mode": {
    "name": "ipython",
    "version": 3
   },
   "file_extension": ".py",
   "mimetype": "text/x-python",
   "name": "python",
   "nbconvert_exporter": "python",
   "pygments_lexer": "ipython3",
   "version": "3.8.8"
  }
 },
 "nbformat": 4,
 "nbformat_minor": 5
}
