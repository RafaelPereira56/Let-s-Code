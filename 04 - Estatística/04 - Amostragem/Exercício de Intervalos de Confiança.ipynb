{
 "cells": [
  {
   "cell_type": "markdown",
   "metadata": {
    "colab": {
     "base_uri": "https://localhost:8080/"
    },
    "executionInfo": {
     "elapsed": 342,
     "status": "ok",
     "timestamp": 1638374750089,
     "user": {
      "displayName": "Rafael Pereira",
      "photoUrl": "https://lh3.googleusercontent.com/a-/AOh14GhdQQrCNdamZSZwKRODVWW9jOK_lV_W5e0GRikFYA=s64",
      "userId": "10843354352536919066"
     },
     "user_tz": 180
    },
    "id": "pNsP65qUtjIQ",
    "outputId": "cfde51f1-cc66-4786-b6b0-809e73bac97b"
   },
   "source": [
    "01 Se uma amostra aleatória n=250, tem uma média amostral de 51,3 e uma desvio padrão populacional de σ=2. Construa o intervalo com 95% de confiança para a média populacional μ."
   ]
  },
  {
   "cell_type": "code",
   "execution_count": 6,
   "metadata": {},
   "outputs": [
    {
     "data": {
      "text/plain": [
       "(50.94493519292112, 51.65506480707887)"
      ]
     },
     "execution_count": 6,
     "metadata": {},
     "output_type": "execute_result"
    }
   ],
   "source": [
    "from scipy.stats import norm\n",
    "import numpy as np\n",
    "\n",
    "media_amostral = 51.3 \n",
    "\n",
    "significancia = 0.05\n",
    "\n",
    "confianca = 1 - significancia\n",
    "\n",
    "sigma = 2 \n",
    "\n",
    "n = 250 # tamanho da amostra\n",
    "\n",
    "from scipy.stats import norm\n",
    "\n",
    "\n",
    "erro = z_alpha_2 * (sigma / np.sqrt(n))\n",
    "erro \n",
    "\n",
    "(media_amostral - erro, media_amostral + erro)\n"
   ]
  },
  {
   "cell_type": "markdown",
   "metadata": {},
   "source": [
    "02 - Sabe-se que a vida em horas de um bulbo de lâmpada de 75 W é distribuída de forma aproximadamente normal com desvio padrão de σ = 25. Uma amostra aleatória de 200 bulbos tem uma vida media de 1.014 horas. Construa um intervalo de confiança de 95% para a vida média."
   ]
  },
  {
   "cell_type": "code",
   "execution_count": 6,
   "metadata": {
    "colab": {
     "base_uri": "https://localhost:8080/"
    },
    "executionInfo": {
     "elapsed": 376,
     "status": "ok",
     "timestamp": 1638374957054,
     "user": {
      "displayName": "Rafael Pereira",
      "photoUrl": "https://lh3.googleusercontent.com/a-/AOh14GhdQQrCNdamZSZwKRODVWW9jOK_lV_W5e0GRikFYA=s64",
      "userId": "10843354352536919066"
     },
     "user_tz": 180
    },
    "id": "bGd7CHmfwS5y",
    "outputId": "6607368a-27e6-4a1c-a302-db47a8b0e883"
   },
   "outputs": [
    {
     "data": {
      "text/plain": [
       "(1010.5352404391258, 1017.4647595608742)"
      ]
     },
     "execution_count": 6,
     "metadata": {},
     "output_type": "execute_result"
    }
   ],
   "source": [
    "from scipy.stats import norm\n",
    "import numpy as np\n",
    "\n",
    "media_amostral = 1014\n",
    "\n",
    "significancia = 0.05\n",
    "\n",
    "confianca = 1 - significancia\n",
    "\n",
    "sigma = 25 \n",
    "\n",
    "n = 200 # tamanho da amostra\n",
    "\n",
    "from scipy.stats import norm\n",
    "\n",
    "\n",
    "erro = z_alpha_2 * (sigma / np.sqrt(n))\n",
    "erro \n",
    "\n",
    "(media_amostral - erro, media_amostral + erro)"
   ]
  },
  {
   "cell_type": "markdown",
   "metadata": {},
   "source": [
    "03 - Qual deve ser o tamanho da amostra para que o intervalo com 99,5% de confiança para a média populacional tenha uma semi-amplitude (ou erro) não superior a 1,5? Sabe-se que a variância populacional é de 23."
   ]
  },
  {
   "cell_type": "code",
   "execution_count": 1,
   "metadata": {},
   "outputs": [
    {
     "name": "stdout",
     "output_type": "stream",
     "text": [
      "80.54537211658509\n"
     ]
    }
   ],
   "source": [
    "from scipy.stats import norm\n",
    "import numpy as np\n",
    "import math\n",
    "\n",
    "confidence = 0.995\n",
    "\n",
    "variance = 23\n",
    "\n",
    "sigma = np.sqrt(variance)\n",
    "\n",
    "meaningfulness = 1 - confidence\n",
    "\n",
    "error = 1.5\n",
    "\n",
    "z_alpha_2 = norm.ppf(confidence + (meaningfulness / 2))\n",
    "\n",
    "\n",
    "n = math.pow(z_alpha_2 * sigma / error, 2)\n",
    "\n",
    "print(n)"
   ]
  },
  {
   "cell_type": "markdown",
   "metadata": {},
   "source": [
    "04 - Uma marca particular de margarina diet foi analisada para determinar o nível em porcentagem de ácidos graxos insaturados. Uma amostra de seis pacotes resultou nos seguintes dados: 16,8; 17,2; 17,4; 16,9; 16,5 e 17,1. Encontre o intervalo de confiança de 99% para a amostra."
   ]
  },
  {
   "cell_type": "code",
   "execution_count": 16,
   "metadata": {},
   "outputs": [
    {
     "data": {
      "text/plain": [
       "(16.5007343583, 17.465932308366668)"
      ]
     },
     "execution_count": 16,
     "metadata": {},
     "output_type": "execute_result"
    }
   ],
   "source": [
    "from scipy.stats import t as t_student\n",
    "import pandas as pd\n",
    "import numpy as np\n",
    "\n",
    "confidence = 0.99\n",
    "\n",
    "meaningfulness  = 1 - confidence\n",
    "\n",
    "serie = pd.Series([16.8, 17.2, 17.4, 16.9, 16.5, 17.1])\n",
    "\n",
    "sample_mean = serie.mean()\n",
    "\n",
    "sample_size = 6\n",
    "\n",
    "sigma = serie.std()\n",
    "\n",
    "scale = np.sqrt(sigma**2 / sample_size)\n",
    "\n",
    "t_student.interval(confidence, sample_size, loc = sample_mean, scale = scale)"
   ]
  },
  {
   "cell_type": "markdown",
   "metadata": {},
   "source": [
    "05 - Uma amostra piloto com 12 elementos tem média de 6,7 e desvio padrão de 1,7. Qual deve ser o tamanho da amostra para que a semi amplitude do intervalo de 99,5% de confiança da média populacional não seja superior a 0,8."
   ]
  },
  {
   "cell_type": "code",
   "execution_count": 20,
   "metadata": {},
   "outputs": [
    {
     "name": "stdout",
     "output_type": "stream",
     "text": [
      "55.20943425916582\n"
     ]
    }
   ],
   "source": [
    "from scipy.stats import t as t_student\n",
    "import numpy as np\n",
    "\n",
    "confidence = 0.995\n",
    "\n",
    "meaningfulness  = 1 - confidence\n",
    "\n",
    "sample_size = 12\n",
    "\n",
    "gl = sample_size - 1\n",
    "\n",
    "sample_mean = 6.7\n",
    "\n",
    "sigma = 1.7\n",
    "\n",
    "error = 0.8\n",
    "\n",
    "t_alpha = t_student.ppf(confidence + (meaningfulness  / 2), df = gl)\n",
    "\n",
    "n = (t_alpha * sigma / error) ** 2\n",
    "\n",
    "print(n)"
   ]
  },
  {
   "cell_type": "markdown",
   "metadata": {},
   "source": [
    "06 - Calcular o intervalo de confiança de 95% para a seguinte amostra, com variância populacional desconhecida:\n",
    "\n",
    "19,8; 18,5; 17,6; 16,7; 15,8; 15,4; 14,1; 13,6; 11,9; 11,4; 11,4; 8,8; 7,5; 15,4; 15,4; 19,5; 14,9; 12,7; 11,9; 11,4; 10,1; 7,9"
   ]
  },
  {
   "cell_type": "code",
   "execution_count": 24,
   "metadata": {},
   "outputs": [
    {
     "data": {
      "text/plain": [
       "(12.142418508314917, 15.28485421895781)"
      ]
     },
     "execution_count": 24,
     "metadata": {},
     "output_type": "execute_result"
    }
   ],
   "source": [
    "from scipy.stats import t as t_student\n",
    "import pandas as pd\n",
    "import numpy as np\n",
    "\n",
    "confidence = 0.95\n",
    "\n",
    "meaningfulness  = 1 - confidence\n",
    "\n",
    "serie = pd.Series([19.8, 18.5, 17.6, 16.7, 15.8, 15.4, 14.1, 13.6, 11.9, 11.4, 11.4, 8.8, 7.5, 15.4, 15.4, 19.5, 14.9, 12.7, 11.9, 11.4, 10.1, 7.9])\n",
    "\n",
    "sample_mean = serie.mean()\n",
    "\n",
    "sample_size = 22\n",
    "\n",
    "sigma = serie.std()\n",
    "\n",
    "scale = np.sqrt(sigma**2 / sample_size)\n",
    "\n",
    "t_student.interval(confidence, sample_size, loc = sample_mean, scale = scale)"
   ]
  },
  {
   "cell_type": "code",
   "execution_count": null,
   "metadata": {},
   "outputs": [],
   "source": []
  }
 ],
 "metadata": {
  "colab": {
   "authorship_tag": "ABX9TyOqTObxTFoBrFngrZ4VqNpQ",
   "name": "Exercício de Intervalos de Confiança.ipynb",
   "provenance": []
  },
  "kernelspec": {
   "display_name": "Python 3",
   "language": "python",
   "name": "python3"
  },
  "language_info": {
   "codemirror_mode": {
    "name": "ipython",
    "version": 3
   },
   "file_extension": ".py",
   "mimetype": "text/x-python",
   "name": "python",
   "nbconvert_exporter": "python",
   "pygments_lexer": "ipython3",
   "version": "3.8.8"
  }
 },
 "nbformat": 4,
 "nbformat_minor": 4
}
