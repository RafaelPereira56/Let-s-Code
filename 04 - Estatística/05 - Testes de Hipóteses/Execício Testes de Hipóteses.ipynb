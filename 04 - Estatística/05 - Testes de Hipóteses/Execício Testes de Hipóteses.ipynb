{
 "cells": [
  {
   "cell_type": "markdown",
   "id": "dfeb708d-8d61-4cf2-99b1-ec3e8e16e1db",
   "metadata": {},
   "source": [
    "01 - Um fabricante de farinha afirma que a quantidade média de farinha nas embalagens de seu principal produto é de 500 g. Um teste de pesagem em 30 embalagens amostradas ao acaso mostrou um peso médio igual à 485 g. Estudos anteriores afirmam que a distribuição dos pesos segue uma normal e que o desvio padrão populacional é igual a 20 g. Considerando um nível de significância igual a 5%, responda as seguintes questões:\n",
    "\n",
    "1) Qual a hipótese nula a ser testada?\n",
    "\n",
    "2) Qual o valor da estatística de teste?\n",
    "\n",
    "3) Qual a conclusão do teste?"
   ]
  },
  {
   "cell_type": "code",
   "execution_count": 6,
   "id": "53231650-e745-4155-a0ca-342460fca840",
   "metadata": {},
   "outputs": [
    {
     "data": {
      "text/plain": [
       "1.999959916877052"
      ]
     },
     "execution_count": 6,
     "metadata": {},
     "output_type": "execute_result"
    }
   ],
   "source": [
    "from scipy.stats import norm\n",
    "import numpy as np\n",
    "\n",
    "media_amostral = 485\n",
    "desvio_amostral = 20\n",
    "\n",
    "u0 = 500\n",
    "n = 30 #número de amostras\n",
    "gl = n - 1\n",
    "\n",
    "significancia = 0.05\n",
    "confianca = 1 - significancia\n",
    "\n",
    "z_alpha_2 = norm.ppf(confianca + significancia / 2)\n",
    "z_alpha_2\n",
    "\n",
    "z = (media_amostral - u0) / (desvio_amostral / np.sqrt(n))\n",
    "z # Estatística de teste\n",
    "\n",
    "z <= -z_alpha_2 or z >= z_alpha_2\n",
    "\n",
    "p_value = norm.sf(-4.107) * 2\n",
    "p_value\n",
    "\n",
    "if p_value <= significancia:\n",
    "    print('Rejeita o H0 (hipótese nula) => A média do volume não é  500 g')\n",
    "else:\n",
    "    print('Aceita o H0 (hipótese nula) => A média do volume é  500 g')\n"
   ]
  },
  {
   "cell_type": "markdown",
   "id": "739bc106-1940-458f-a6d0-8121a9cadd31",
   "metadata": {},
   "source": [
    "02 - Considere novamente os dados do exercício anterior. Um fabricante de farinha afirma que a quantidade média de farinha nas embalagens de seu principal produto é de 500 g. Um teste de pesagem em 30 embalagens amostradas ao acaso mostrou um peso médio igual à 485 g. Estudos anteriores afirmam que a distribuição dos pesos segue uma normal e que o desvio padrão populacional é igual a 20 g. Com um nível de significância igual a 5%, teste a hipótese nula de que a média do processo é igual a 500 g e marque a alternativa que indica o p-valor do teste aplicado (considere somente 5 casas decimais)."
   ]
  },
  {
   "cell_type": "code",
   "execution_count": 15,
   "id": "b2f184c4-e10d-4d57-a5af-eaa45670f83f",
   "metadata": {},
   "outputs": [
    {
     "data": {
      "text/plain": [
       "1.9999600744385406"
      ]
     },
     "execution_count": 15,
     "metadata": {},
     "output_type": "execute_result"
    }
   ],
   "source": [
    "from scipy.stats import norm\n",
    "\n",
    "media_amostral = 485\n",
    "desvio_amostral = 20\n",
    "\n",
    "u0 = 500\n",
    "n = 30 #número de amostras\n",
    "gl = n - 1\n",
    "\n",
    "significancia = 0.05\n",
    "confianca = 1 - significancia\n",
    "\n",
    "z_alpha_2 = norm.ppf(confianca + significancia / 2)\n",
    "z_alpha_2\n",
    "\n",
    "z = (media_amostral - u0) / (desvio_amostral / np.sqrt(n))\n",
    "z # Estatística de teste\n",
    "\n",
    "\n",
    "z <= -z_alpha_2 or z >= z_alpha_2\n",
    "\n",
    "p_value = norm.sf(-4.10791) * 2\n",
    "p_value"
   ]
  },
  {
   "cell_type": "markdown",
   "id": "cee4d999-c8a3-4474-b92e-2e9adf260942",
   "metadata": {},
   "source": [
    "A empresa Limpa Esgoto garante ser capaz de realizar o tratamento de esgoto e obter, no máximo, 150 g de impurezas para cada mil litros de esgoto tratado. Vinte amostras de mil litros de esgoto apresentaram, em média, 230 g de impurezas e desvio padrão amostral igual a 90 g.\n",
    "\n",
    "Assumindo alfa igual a 5% e população normalmente distribuída, seria possível discordar da empresa Limpa Esgoto? Assinale a alternativa que apresenta a estatística de teste e a decisão correta do teste."
   ]
  },
  {
   "cell_type": "code",
   "execution_count": 17,
   "id": "337a3107-4c77-4ba6-82de-113dca820eff",
   "metadata": {},
   "outputs": [
    {
     "data": {
      "text/plain": [
       "3.9752319599996264"
      ]
     },
     "execution_count": 17,
     "metadata": {},
     "output_type": "execute_result"
    }
   ],
   "source": [
    "amostra = 20\n",
    "\n",
    "media_amostral = 230\n",
    "\n",
    "desvio_amostral = 90\n",
    "\n",
    "n = amostra\n",
    "gl = n - 1\n",
    "\n",
    "significancia = 0.05\n",
    "confianca = 1 - significancia\n",
    "\n",
    "from scipy.stats import t as t_student\n",
    "t_alpha = t_student.ppf(0.95, df=gl)\n",
    "t_alpha\n",
    "\n",
    "t = (media_amostral - 150) / (desvio_amostral / np.sqrt(n))\n",
    "t"
   ]
  },
  {
   "cell_type": "markdown",
   "id": "3d6cf6fc-2698-4951-b887-008d4e78e888",
   "metadata": {},
   "source": [
    "04 - A pizzaria Muito Queijo alega que a quantidade de queijo em suas pizzas tamanho família é de, no mínimo, 350 g. Uma amostra de 35 pizzas tamanho família revelou uma média de 330 g de queijo por pizza. O desvio padrão amostral foi de 80 g.\n",
    "\n",
    "Assumindo alfa igual a 5% e população normalmente distribuída, seria possível discordar da alegação da pizzaria? Assinale a alternativa que apresenta a estatística de teste e a decisão correta do teste."
   ]
  },
  {
   "cell_type": "code",
   "execution_count": 18,
   "id": "f9989eba-69c7-4bba-a794-fb5568c2cc68",
   "metadata": {},
   "outputs": [
    {
     "name": "stdout",
     "output_type": "stream",
     "text": [
      "-1.479019945774904\n",
      "Aceita o H0 (hipótese nula)\n"
     ]
    }
   ],
   "source": [
    "from scipy.stats import norm\n",
    "import numpy as np\n",
    "\n",
    "sample_mean = 330\n",
    "\n",
    "sigma = 80\n",
    "\n",
    "h0 = 350\n",
    "\n",
    "n = 35\n",
    "\n",
    "gl = n - 1\n",
    "\n",
    "meaningfulness = 0.05\n",
    "\n",
    "confidence = 1 - meaningfulness\n",
    "\n",
    "z_alpha_2 = norm.ppf(confidence + meaningfulness / 2)\n",
    "\n",
    "z = (sample_mean - h0) / (sigma / np.sqrt(n))\n",
    "\n",
    "z <= -z_alpha_2 or z >= z_alpha_2\n",
    "\n",
    "p_value = norm.sf(z) * 2\n",
    "\n",
    "print(z)\n",
    "\n",
    "if p_value <= meaningfulness:\n",
    "    print('Rejeita o H0 (hipótese nula)')\n",
    "else:\n",
    "    print('Aceita o H0 (hipótese nula)')"
   ]
  },
  {
   "attachments": {
    "4cf70af1-3395-489e-aad4-2ceb599d89b4.png": {
     "image/png": "[encoded data removed]"
    }
   },
   "cell_type": "markdown",
   "id": "24c7d27c-5dd7-42e3-9770-fc3eb5e2dd38",
   "metadata": {},
   "source": [
    "05 - Um fabricante de cosméticos afirma que a adição de um novo composto químico em sua linha de shampoos consegue promover em mais de 2 centímetros o crescimento dos fios de cabelo em um período de 60 dias. Duas amostras de pessoas foram selecionadas e testadas, uma utilizando o shampoo novo (com o composto) e a outra com o shampoo antigo (sem o composto).\n",
    "\n",
    "Os resultados (crescimento dos fios de cabelo em centímetros) podem ser verificados na tabela abaixo:\n",
    "\n",
    "![image.png](attachment:4cf70af1-3395-489e-aad4-2ceb599d89b4.png)!\n",
    "\n",
    "\n",
    "Assumindo um nível de confiança de 95% e considerando que as populações se distribuem como uma normal, podemos acreditar na afirmação do fabricante do shampoo? Assinale a alternativa que apresenta a estatística de teste e a decisão correta do teste.\n",
    "\n",
    "Um pouco mais de teoria: como se trata de um problema um pouco diferente do apresentado em nossa aula, vamos esclarecer alguns pontos para ajudar na solução:\n",
    "\n",
    "1) Em testes entre duas amostras, quando realizamos a escolha da distribuição amostral adequada (passo 2) e perguntamos se n ≥ 30, temos que considerar que n = n1 + n2, onde n1 é o tamanho da primeira amostra e n2 o tamanho da segunda;\n",
    "\n",
    "2) Quando n1 + n2 ≥ 30, utilizamos z (normal), e quando n1 + n2 < 30, σ não for conhecido e as populações forem normalmente distribuídas, utilizamos t (t-Student);\n",
    "\n",
    "3) Quando utilizamos a tabela t de Student, em teste de duas amostras, os graus de liberdade são obtidos da seguinte forma: n1 + n2 - 2;\n",
    "\n",
    "4) Quando o problema nos pergunta se podemos acreditar na afirmação do fabricante, está nos indicando o que devemos testar, ou seja, a nossa hipótese alternativa (H1), que no caso é:\n",
    "\n",
    "Onde:\n",
    "\n",
    "μ1 = Crescimento médio dos cabelos com o uso do novo shampoo μ2 = Crescimento médio dos cabelos com o uso do shampoo antigo.\n"
   ]
  },
  {
   "cell_type": "code",
   "execution_count": 25,
   "id": "e473cdf1-3401-424e-b1db-c9cb23730d2f",
   "metadata": {},
   "outputs": [
    {
     "data": {
      "text/plain": [
       "3.9752319599996264"
      ]
     },
     "execution_count": 25,
     "metadata": {},
     "output_type": "execute_result"
    }
   ],
   "source": [
    "import numpy as np\n",
    "\n",
    "amostra = 20\n",
    "\n",
    "media_amostral_novo = np.array([3.4, 4.9, 2.8, 5.5, 3.7, 2.5, 4.3, 4.6, 3.7, 3.4]).mean()\n",
    "\n",
    "media_amostral_antigo = np.array([0.3, 1.2, 1.2, 1.7, 1.1, 0.6, 1.2, 1.5, 0.5, 0.7]).mean()\n",
    "\n",
    "\n",
    "n = amostra\n",
    "gl = n - 1\n",
    "\n",
    "significancia = 0.05\n",
    "confianca = 1 - significancia\n"
   ]
  },
  {
   "cell_type": "code",
   "execution_count": 7,
   "id": "f0ef9def-e0e6-4740-8838-d2d56729193c",
   "metadata": {},
   "outputs": [
    {
     "name": "stdout",
     "output_type": "stream",
     "text": [
      "t_alpha: 1.7340636066175354\n",
      "t: 8.942248090104489\n"
     ]
    }
   ],
   "source": [
    "from scipy.stats import t as t_student\n",
    "import numpy as np\n",
    "\n",
    "confidence = 0.95\n",
    "\n",
    "meaningfulness = 1 - confidence\n",
    "\n",
    "gl = 10 + 10 - 2\n",
    "\n",
    "t_alpha = t_student.ppf(\n",
    "    confidence,\n",
    "    df = gl\n",
    ")\n",
    "\n",
    "t_alpha\n",
    "\n",
    "\n",
    "sample = np.array(\n",
    "    [\n",
    "        3.4, 4.9, 2.8, 5.5, 3.7, 2.5, 4.3, 4.6, 3.7, 3.4\n",
    "    ]\n",
    ")\n",
    "\n",
    "sample_mean = sample.mean()\n",
    "\n",
    "sigma = sample.std()\n",
    "\n",
    "t = (sample_mean - 2) / (sigma / np.sqrt(gl))\n",
    "\n",
    "print('t_alpha:', t_alpha)\n",
    "\n",
    "print('t:', t)"
   ]
  },
  {
   "cell_type": "code",
   "execution_count": null,
   "id": "c55072e6-6edd-4c9f-a950-31a78e5eea8b",
   "metadata": {},
   "outputs": [],
   "source": []
  },
  {
   "cell_type": "code",
   "execution_count": null,
   "id": "437630ed-10cd-481a-8e54-d5e95be89ca6",
   "metadata": {},
   "outputs": [],
   "source": []
  }
 ],
 "metadata": {
  "kernelspec": {
   "display_name": "Python 3",
   "language": "python",
   "name": "python3"
  },
  "language_info": {
   "codemirror_mode": {
    "name": "ipython",
    "version": 3
   },
   "file_extension": ".py",
   "mimetype": "text/x-python",
   "name": "python",
   "nbconvert_exporter": "python",
   "pygments_lexer": "ipython3",
   "version": "3.8.8"
  }
 },
 "nbformat": 4,
 "nbformat_minor": 5
}
