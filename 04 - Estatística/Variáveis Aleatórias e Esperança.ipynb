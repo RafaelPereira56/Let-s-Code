{
 "cells": [
  {
   "cell_type": "raw",
   "id": "65396b5a-eb4b-4e77-8916-72652515f717",
   "metadata": {},
   "source": [
    "Questão 1\n",
    "As alternativas abaixo descrevem as características básicas de um experimento binomial. Marque a alternativa correta.\n",
    "\n",
    "[ ] Os ensaios são dependentes.\n",
    "\n",
    "[ ] A probabilidade de sucesso é representada por p e a de fracasso por 1 + p = q. Estas probabilidades não se modificam de ensaio para ensaio\n",
    "\n",
    "[x] Somente dois resultados são possíveis."
   ]
  },
  {
   "cell_type": "markdown",
   "id": "f536cb43-1f40-48e5-80c0-40898e424f20",
   "metadata": {},
   "source": [
    "Questão 2\n",
    "Uma moeda, perfeitamente equilibrada, é lançada para o alto quatro vezes. Utilizando a distribuição binomial, obtenha a probabilidade de a moeda cair com a face coroa voltada para cima duas vezes."
   ]
  },
  {
   "cell_type": "code",
   "execution_count": null,
   "id": "62314656-0de2-440e-83a9-3a2b270d68e3",
   "metadata": {},
   "outputs": [],
   "source": [
    "from scipy.stats import binom\n",
    "binom.pmf(n=n, k=k, p=p)"
   ]
  },
  {
   "cell_type": "code",
   "execution_count": 1,
   "id": "7aadbeaa-9154-4701-b94b-596523233e50",
   "metadata": {},
   "outputs": [
    {
     "data": {
      "text/plain": [
       "0.375"
      ]
     },
     "execution_count": 1,
     "metadata": {},
     "output_type": "execute_result"
    }
   ],
   "source": [
    "n = 4 #número de ensaios ( 𝑛 )\n",
    "p = 1 / 2 #probabilidade de sucesso ( 𝑝 )\n",
    "q = 1 - p # 1/2  probabilidade de fracasso\n",
    "k = 2 # total de eventos que se deseja obter sucesso\n",
    "from scipy.special import comb\n",
    "comb(n, k) * p**k * q**(n - k) # P(X = 5)"
   ]
  },
  {
   "cell_type": "code",
   "execution_count": 2,
   "id": "6cd5aef5-7f1e-4966-8c27-a2540cfe2ff6",
   "metadata": {},
   "outputs": [
    {
     "data": {
      "text/plain": [
       "0.3750000000000001"
      ]
     },
     "execution_count": 2,
     "metadata": {},
     "output_type": "execute_result"
    }
   ],
   "source": [
    "from scipy.stats import binom\n",
    "\n",
    "binom.pmf(2, 4, 0.5)"
   ]
  },
  {
   "cell_type": "markdown",
   "id": "4c675952-bc7b-47a4-b32c-5b7139007d6c",
   "metadata": {},
   "source": [
    "Questão 3\n",
    "Um dado, perfeitamente equilibrado, é lançado para o alto dez vezes. Utilizando a distribuição binomial, obtenha a probabilidade de o dado cair com o número cinco voltado para cima pelo menos três vezes."
   ]
  },
  {
   "cell_type": "code",
   "execution_count": 3,
   "id": "c13733f8-ce6c-4cad-8822-05c4bdb633a1",
   "metadata": {},
   "outputs": [
    {
     "data": {
      "text/plain": [
       "0.15405218575100324"
      ]
     },
     "execution_count": 3,
     "metadata": {},
     "output_type": "execute_result"
    }
   ],
   "source": [
    "from scipy.stats import binom\n",
    "\n",
    "binom.pmf(3, 10, 0.166)"
   ]
  },
  {
   "cell_type": "code",
   "execution_count": 6,
   "id": "1c5d77bb-05ce-40ed-a81a-f296287fc0e0",
   "metadata": {},
   "outputs": [
    {
     "data": {
      "text/plain": [
       "0.2247732021287407"
      ]
     },
     "execution_count": 6,
     "metadata": {},
     "output_type": "execute_result"
    }
   ],
   "source": [
    "dado = 0\n",
    "\n",
    "for i in range(3, 11):\n",
    "    dado += binom.pmf(n=10, k=i, p=1/6)\n",
    "    \n",
    "dado"
   ]
  },
  {
   "cell_type": "markdown",
   "id": "ca1c9a30-f071-426b-9dcc-411d50b3232f",
   "metadata": {},
   "source": [
    "Questão 4\n",
    "\n",
    "Suponha que a probabilidade de um casal ter um filho com olhos azuis seja de 22%. Em 50 famílias, com 3 crianças cada uma, quantas podemos esperar que tenham dois filhos com olhos azuis?\n",
    "\n",
    "- Primeiro experimento (Distribuição de Binomial):\n",
    "    - X: número de filhos com olhos azuis\n",
    "    - Sucesso: ter filho com olhos azuis\n",
    "    - Fracasso: filho com olhos de outra coisa\n",
    "    - Número de sucessos: 2\n",
    "    - Probabilidade de sucesso: 22%"
   ]
  },
  {
   "cell_type": "code",
   "execution_count": 13,
   "id": "cae20af7-83eb-402f-96e5-7fb94b38d83a",
   "metadata": {},
   "outputs": [
    {
     "data": {
      "text/plain": [
       "0.11325599999999998"
      ]
     },
     "execution_count": 13,
     "metadata": {},
     "output_type": "execute_result"
    }
   ],
   "source": [
    "from scipy.stats import binom\n",
    "\n",
    "# Calcular a probabilidade de uma família ter, exatamente, dois filhos com olhos azuis\n",
    "binom.pmf(n=3, k=2, p=0.22)"
   ]
  },
  {
   "cell_type": "markdown",
   "id": "c7d96520-117e-408d-9336-f601240bc237",
   "metadata": {},
   "source": [
    "- Segundo experimento:\n",
    "    - Y: número de famílias que tiveram 2 crianças com olhos azuis, de um total de 3 crianças\n",
    "    - Sucesso: Ter duas crianças com olhos azuis e a outra sem olhos azuis\n",
    "    - Fracasso: O contrário do sucesso\n",
    "    - Probabilidade de sucesso: 0.11325599999999993"
   ]
  },
  {
   "cell_type": "code",
   "execution_count": 17,
   "id": "3820ea07-aa7d-4a67-b34c-b8f5cfa546fd",
   "metadata": {},
   "outputs": [
    {
     "data": {
      "text/plain": [
       "0.00021687023444456064"
      ]
     },
     "execution_count": 17,
     "metadata": {},
     "output_type": "execute_result"
    }
   ],
   "source": [
    "# Mostrar que se trata de um outro experimento binomial (supondo um k = 15)\n",
    "binom.pmf(n=50, k=15, p=0.11325599999999993)"
   ]
  },
  {
   "cell_type": "code",
   "execution_count": 22,
   "id": "ed0bfeff-66a2-41fe-b00c-330fd4a2c467",
   "metadata": {},
   "outputs": [
    {
     "data": {
      "text/plain": [
       "5.662799999999999"
      ]
     },
     "execution_count": 22,
     "metadata": {},
     "output_type": "execute_result"
    }
   ],
   "source": [
    "# Valor esperado (de acordo com a distribuição binomial)\n",
    "n = 50\n",
    "p = 0.11325599999999998\n",
    "\n",
    "n * p"
   ]
  },
  {
   "cell_type": "markdown",
   "id": "6174fba8-40b0-4a69-a7bb-3314d38ac097",
   "metadata": {},
   "source": [
    "Questão 5\n",
    "As alternativas abaixo descrevem as características básicas de um experimento Poisson. Marque aquela que está correta.\n",
    "\n",
    "[ ] O número de ocorrências em determinado intervalo é dependente do número de ocorrências em outros intervalos\n",
    "\n",
    "[ ] A probabilidade de uma ocorrência pode variar em todo o intervalo observado\n",
    "\n",
    "[x] O número de ocorrências em determinado intervalo é independente do número de ocorrências em outros intervalos"
   ]
  },
  {
   "cell_type": "markdown",
   "id": "b77d8276-7c4c-4f12-ae3a-de9091f78a0c",
   "metadata": {},
   "source": [
    "Questão 6\n",
    "O número médio de clientes que entram em uma padaria por hora é igual a 20. Obtenha a probabilidade de, na próxima hora, entrarem exatamente 25 clientes."
   ]
  },
  {
   "cell_type": "code",
   "execution_count": 26,
   "id": "22575ee5-e34f-49b8-85e6-88490f388cfe",
   "metadata": {},
   "outputs": [],
   "source": [
    "mu = 20 #número médio de ocorrências por hora\n",
    "k = 25 #número de ocorrências que queremos obter no período\n"
   ]
  },
  {
   "cell_type": "code",
   "execution_count": 27,
   "id": "4ad87edd-1973-400a-8e10-404b38fca7a8",
   "metadata": {},
   "outputs": [
    {
     "data": {
      "text/plain": [
       "0.04458764910826764"
      ]
     },
     "execution_count": 27,
     "metadata": {},
     "output_type": "execute_result"
    }
   ],
   "source": [
    "from scipy.stats import poisson\n",
    "poisson.pmf(mu=mu, k=k)"
   ]
  },
  {
   "cell_type": "markdown",
   "id": "00122afb-13a9-43e7-82f0-d87a44781019",
   "metadata": {},
   "source": [
    "Questão 7\n",
    "Sobre a distribuição normal, avalie as afirmativas abaixo:\n",
    "\n",
    "1) A distribuição normal é definida por sua média e desvio padrão\n",
    "\n",
    "2) A distribuição normal é simétrica em torno da média\n",
    "\n",
    "3) O desvio padrão define o achatamento e largura da curva da distribuição normal\n",
    "\n",
    "Quais estão corretas?\n",
    "\n",
    "[ ] Somente as afirmativas 1 e 2 estão corretas\n",
    "\n",
    "[ ] Somente as afirmativas 1 e 3 estão corretas\n",
    "\n",
    "[x] Todas as afirmativas estão corretas\n",
    "\n",
    "[ ] Somente as afirmativas 2 e 3 estão corretas"
   ]
  },
  {
   "cell_type": "markdown",
   "id": "fabdfb70-feed-416e-9287-344146411eb3",
   "metadata": {},
   "source": [
    "Questão 8\n",
    "A aplicação de uma prova de estatística em um concurso apresentou um conjunto de notas normalmente distribuídas. Verificou-se que o conjunto de notas tinha média 70 e desvio padrão de 5 pontos.\n",
    "\n",
    "Qual a probabilidade de um aluno, selecionado ao acaso, ter nota menor que 85?"
   ]
  },
  {
   "cell_type": "code",
   "execution_count": 1,
   "id": "8291da5a-0012-4f3d-beb9-908d18008853",
   "metadata": {},
   "outputs": [
    {
     "data": {
      "text/plain": [
       "0.9986501019683699"
      ]
     },
     "execution_count": 1,
     "metadata": {},
     "output_type": "execute_result"
    }
   ],
   "source": [
    "from scipy.stats import norm\n",
    "\n",
    "z = (85 - 70) / 5\n",
    "\n",
    "norm.cdf(z)"
   ]
  },
  {
   "cell_type": "markdown",
   "id": "34d4c71d-c4cd-468f-811c-4770cb62ae44",
   "metadata": {},
   "source": [
    "Questão 9\n",
    "O faturamento diário de um motorista de aplicativo segue uma distribuição aproximadamente normal, com média 300,00 reais e desvio padrão igual a 50,00 reais. Obtenha as probabilidades de que, em um dia aleatório, o motorista ganhe:\n",
    "\n",
    "Entre 250,00 e 350,00 reais\n",
    "\n",
    "Entre 400,00 e 500,00 reais"
   ]
  },
  {
   "cell_type": "code",
   "execution_count": 2,
   "id": "11b92b7a-e27e-4caf-b030-242b091ccb6b",
   "metadata": {},
   "outputs": [
    {
     "data": {
      "text/plain": [
       "0.6826894921370859"
      ]
     },
     "execution_count": 2,
     "metadata": {},
     "output_type": "execute_result"
    }
   ],
   "source": [
    "# 1\n",
    "\n",
    "# Padronizando os valores\n",
    "z_inf = (250 - 300) / 50\n",
    "z_sup = (350 - 300) / 50\n",
    "\n",
    "z_inf, z_sup\n",
    "\n",
    "from scipy.stats import norm\n",
    "p_inf = norm.cdf(z_inf)\n",
    "p_sup = norm.cdf(z_sup)\n",
    "p_sup - p_inf"
   ]
  },
  {
   "cell_type": "code",
   "execution_count": 3,
   "id": "b4f86070-c432-4cb4-b701-f9393fd85c2a",
   "metadata": {},
   "outputs": [
    {
     "data": {
      "text/plain": [
       "0.02271846070634609"
      ]
     },
     "execution_count": 3,
     "metadata": {},
     "output_type": "execute_result"
    }
   ],
   "source": [
    "# 2\n",
    "z_inf = (400 - 300) / 50\n",
    "z_sup = (500 - 300) / 50\n",
    "\n",
    "z_inf, z_sup\n",
    "\n",
    "p_inf = norm.cdf(z_inf)\n",
    "\n",
    "p_sup = norm.cdf(z_sup)\n",
    "\n",
    "p_sup - p_inf"
   ]
  },
  {
   "cell_type": "markdown",
   "id": "c5ddcb5c-ae6d-4009-a091-37b68901bee1",
   "metadata": {},
   "source": [
    "Questão 10\n",
    "O Inmetro verificou que as lâmpadas incandescentes da fabricante XPTO apresentam uma vida útil normalmente distribuída, com média igual a 720 dias e desvio padrão igual a 30 dias. Calcule a probabilidade de uma lâmpada, escolhida ao acaso, durar:\n",
    "\n",
    "1) Entre 650 e 750 dias\n",
    "\n",
    "2) Mais que 800 dias\n",
    "\n",
    "3) Menos que 700 dias"
   ]
  },
  {
   "cell_type": "code",
   "execution_count": 4,
   "id": "411e17c8-69d7-4fd7-b38b-c407944c587e",
   "metadata": {},
   "outputs": [
    {
     "data": {
      "text/plain": [
       "0.8315294174398976"
      ]
     },
     "execution_count": 4,
     "metadata": {},
     "output_type": "execute_result"
    }
   ],
   "source": [
    "# 1\n",
    "\n",
    "# Padronizando os valores\n",
    "z_inf = (650 - 720) / 30\n",
    "z_sup = (750 - 720) / 30\n",
    "\n",
    "z_inf, z_sup\n",
    "\n",
    "from scipy.stats import norm\n",
    "p_inf = norm.cdf(z_inf)\n",
    "p_sup = norm.cdf(z_sup)\n",
    "p_sup - p_inf"
   ]
  },
  {
   "cell_type": "code",
   "execution_count": 9,
   "id": "99d43be9-1e6a-4b38-a009-53ef8e22e6de",
   "metadata": {},
   "outputs": [
    {
     "data": {
      "text/plain": [
       "0.003830380567589775"
      ]
     },
     "execution_count": 9,
     "metadata": {},
     "output_type": "execute_result"
    }
   ],
   "source": [
    "# 2\n",
    "\n",
    "# Padronizando os valores\n",
    "z = (800 - 720) / 30\n",
    "\n",
    "from scipy.stats import norm\n",
    "1 - norm.cdf(z)"
   ]
  },
  {
   "cell_type": "code",
   "execution_count": 12,
   "id": "499b5770-7f0b-41f0-a576-c5ed3ed8d627",
   "metadata": {},
   "outputs": [
    {
     "data": {
      "text/plain": [
       "0.2524925375469229"
      ]
     },
     "execution_count": 12,
     "metadata": {},
     "output_type": "execute_result"
    }
   ],
   "source": [
    "# 3\n",
    "\n",
    "# Padronizando os valores\n",
    "z = (700 - 720) / 30\n",
    "\n",
    "from scipy.stats import norm\n",
    "norm.cdf(z)"
   ]
  },
  {
   "cell_type": "code",
   "execution_count": null,
   "id": "38c5487f-652f-4868-ba35-c90106335d6d",
   "metadata": {},
   "outputs": [],
   "source": []
  }
 ],
 "metadata": {
  "kernelspec": {
   "display_name": "Python 3",
   "language": "python",
   "name": "python3"
  },
  "language_info": {
   "codemirror_mode": {
    "name": "ipython",
    "version": 3
   },
   "file_extension": ".py",
   "mimetype": "text/x-python",
   "name": "python",
   "nbconvert_exporter": "python",
   "pygments_lexer": "ipython3",
   "version": "3.8.8"
  }
 },
 "nbformat": 4,
 "nbformat_minor": 5
}
